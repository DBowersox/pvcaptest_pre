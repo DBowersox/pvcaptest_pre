{
 "cells": [
  {
   "cell_type": "code",
   "execution_count": null,
   "metadata": {},
   "outputs": [],
   "source": [
    "%matplotlib inline\n",
    "import captest as pvc\n",
    "import pandas as pd\n",
    "import numpy as np\n",
    "from bokeh.io import output_notebook, show\n",
    "\n",
    "import operator\n",
    "\n",
    "output_notebook"
   ]
  },
  {
   "cell_type": "code",
   "execution_count": null,
   "metadata": {},
   "outputs": [],
   "source": [
    "def to_mindex(df):\n",
    "    my_index = pd.MultiIndex(levels=[[],[]],\n",
    "                               labels=[[],[]],\n",
    "                               names=[u'location', u'instrument'])\n",
    "\n",
    "    df_mindex = pd.DataFrame(columns=my_index)\n",
    "\n",
    "    for col in df.columns:\n",
    "        location = col.split('_')[0]\n",
    "        if len(col.split('_')) == 3:\n",
    "            inst = col.split('_')[1] + '_' + col.split('_')[2]\n",
    "        else:\n",
    "            inst = col.split('_')[1]\n",
    "        df_mindex[location, inst] = df.loc[:, col]\n",
    "\n",
    "    df_mindex.index.name = None\n",
    "    \n",
    "    return df_mindex"
   ]
  },
  {
   "cell_type": "code",
   "execution_count": null,
   "metadata": {},
   "outputs": [],
   "source": [
    "def inject_err(df, col, meas_err='std', flt_val=None, flt_col=None, between_time=None, perc=100, seed=None):\n",
    "    \"\"\"\n",
    "    df : dataframe\n",
    "    col : str\n",
    "        column name\n",
    "    meas_err : str or float\n",
    "        If 'std' adds error where std is 0.03 * col.std\n",
    "        If 'outlier' adds error where std is 1/6th the range of the data\n",
    "        If float adds error where std is float * col.std\n",
    "    flt_val : str, optional default None\n",
    "        String used in pd.DataFrame.query to filter\n",
    "        Ex: '> 100'\n",
    "    between_time : (str, str), optional default None\n",
    "        Tuple of two strings, which are converted to start and end times of time of day to keep data.\n",
    "    perc : int or float, default 100\n",
    "        Percent of points to transform to outliers. Applied after value and time filters.\n",
    "    seed : integer, optional default None\n",
    "        Integer to seed np.random.RandomState\n",
    "    \"\"\"\n",
    "    df_out = df.copy()\n",
    "    df['ix'] = np.arange(0, df.shape[0])\n",
    "    column = df.loc[:, col]\n",
    "    col_num = df.columns.get_loc(col)\n",
    "    \n",
    "    if seed is None:\n",
    "        rng = np.random.RandomState()\n",
    "    else:\n",
    "        rng = np.random.RandomState(seed)\n",
    "    \n",
    "    if meas_err is 'std':\n",
    "        std = column.std() * 0.03\n",
    "    elif meas_err is 'outlier':\n",
    "        std = (column.max() - column.min()) / 6\n",
    "    elif isinstance(meas_err, float) or isinstance(meas_err, int):\n",
    "        std = column.std() * meas_err\n",
    "        \n",
    "    if flt_val is not None:\n",
    "#         print('in flt_val')\n",
    "        if flt_col is not None:\n",
    "            ix_flt_val = df.query(flt_col + flt_val).loc[:, 'ix'].values\n",
    "        else:\n",
    "            ix_flt_val = df.query(col + flt_val).loc[:, 'ix'].values\n",
    "        if between_time is None:\n",
    "#             print('    between_time is none')\n",
    "            ix_flt = ix_flt_val\n",
    "    if between_time is not None:\n",
    "#         print('in between_time')\n",
    "        #need to take the intersection of the ix_flt_val from above and result from below\n",
    "        ix_flt_time = df.between_time(between_time[0], between_time[1]).loc[:, 'ix'].values\n",
    "        if flt_val is None:\n",
    "#             print('    flt_val is None')\n",
    "            ix_flt = ix_flt_time\n",
    "        if flt_val is not None:\n",
    "#             print('    flt_val is not None')\n",
    "            ix_flt = np.intersect1d(ix_flt_val, ix_flt_time)\n",
    "    \n",
    "    if flt_val is not None or between_time is not None:\n",
    "        if perc is not 100:\n",
    "#             print('perc is not 100')\n",
    "#             ix_flt_perc = np.random.choice(ix_flt, int(perc / 100 * ix_flt.shape[0]), replace=False)\n",
    "            ix_flt_perc = rng.choice(ix_flt, int(perc / 100 * ix_flt.shape[0]), replace=False)\n",
    "        elif perc is 100:\n",
    "#             print('perc is 100')\n",
    "            ix_flt_perc = ix_flt\n",
    "\n",
    "    if flt_val is None and between_time is None:\n",
    "#         print('flt_val and between_time are None')\n",
    "        df_out.loc[:, col] = std * rng.randn(df.shape[0]) + column\n",
    "    elif flt_val is not None or between_time is not None:\n",
    "#         print('either between_time or flt_val is not None')\n",
    "        df_out.iloc[ix_flt_perc, col_num] = std * rng.randn(ix_flt_perc.shape[0]) + column.iloc[ix_flt_perc]\n",
    "    \n",
    "    return df_out\n",
    "\n",
    "    # add index column to dataframe\n",
    "#     df['ix'] = np.arange(0, df.shape[0])\n",
    "\n",
    "    # non query filter\n",
    "    # indices = df[df['globHor_err'] >= 100].loc[:, 'ix'].values\n",
    "\n",
    "    # query with operator string argument\n",
    "#     operator = '>='\n",
    "#     indices = df.query('globHor_err' + operator + '100').loc[:, 'ix'].values\n",
    "\n",
    "    # select random sample from filtered indices\n",
    "#     indices_rand = np.random.choice(indices, int(0.015 * df.shape[0]), replace=False)\n",
    "\n",
    "    # get column to apply error to\n",
    "#     df_egrid_err = df.loc[:, 'egrid_err']\n",
    "    # calc std dev of error\n",
    "#     std_dev = (df_egrid_err.max() - df_egrid_err.min()) / 6\n",
    "    # determine integer index of column for use in .iloc \n",
    "#     col_num = df.columns.get_loc('egrid_err')\n",
    "    # write over the randomly selected rows in the column with values adjusted to have higher error\n",
    "#     df.iloc[indices_rand, col_num] = std_dev * rng.randn(indices_rand.shape[0]) + df_egrid_err.iloc[indices_rand]"
   ]
  },
  {
   "cell_type": "code",
   "execution_count": null,
   "metadata": {},
   "outputs": [],
   "source": [
    "pvsyst = pvc.CapData()"
   ]
  },
  {
   "cell_type": "code",
   "execution_count": null,
   "metadata": {},
   "outputs": [],
   "source": [
    "pvsyst.load_data(load_pvsyst=True)"
   ]
  },
  {
   "cell_type": "code",
   "execution_count": null,
   "metadata": {},
   "outputs": [],
   "source": [
    "pvsyst.df.head()"
   ]
  },
  {
   "cell_type": "code",
   "execution_count": null,
   "metadata": {},
   "outputs": [],
   "source": [
    "test_per = pvsyst.df.loc['10/9/1990':'10/14/1990 0:00']"
   ]
  },
  {
   "cell_type": "code",
   "execution_count": null,
   "metadata": {},
   "outputs": [],
   "source": [
    "test_per_5min = test_per.resample('15s').interpolate()"
   ]
  },
  {
   "cell_type": "code",
   "execution_count": null,
   "metadata": {},
   "outputs": [],
   "source": [
    "test_per_5min = test_per_5min.iloc[0:-1]"
   ]
  },
  {
   "cell_type": "code",
   "execution_count": null,
   "metadata": {},
   "outputs": [],
   "source": [
    "test_per_5min.shape"
   ]
  },
  {
   "cell_type": "code",
   "execution_count": null,
   "metadata": {},
   "outputs": [],
   "source": [
    "df = test_per_5min.loc[:,['GlobInc', 'GlobHor', 'TAmb', 'TArray', 'WindVel', 'E_Grid', 'EOutInv']]"
   ]
  },
  {
   "cell_type": "code",
   "execution_count": null,
   "metadata": {},
   "outputs": [],
   "source": [
    "df.head()"
   ]
  },
  {
   "cell_type": "code",
   "execution_count": null,
   "metadata": {},
   "outputs": [],
   "source": [
    "tdata_meas = pd.DataFrame()\n",
    "tdata_meas['met1_poa_refcell'] = df.loc[:, 'GlobInc']\n",
    "tdata_meas['met2_poa_refcell'] = df.loc[:, 'GlobInc']\n",
    "tdata_meas['met1_poa_pyranometer'] = df.loc[:, 'GlobInc']\n",
    "tdata_meas['met2_poa_pyranometer'] = df.loc[:, 'GlobInc']\n",
    "tdata_meas['met1_ghi_pyranometer'] = df.loc[:, 'GlobHor']\n",
    "tdata_meas['met2_ghi_pyranometer'] = df.loc[:, 'GlobHor']\n",
    "\n",
    "tdata_meas['met1_amb_temp'] = df.loc[:, 'TAmb']\n",
    "tdata_meas['met2_amb_temp'] = df.loc[:, 'TAmb']\n",
    "\n",
    "ix = df.query('TArray - TAmb < 0').index\n",
    "df.loc[ix, 'TArray'] = df.loc[ix,'TAmb'] - 2.2\n",
    "\n",
    "tdata_meas['met1_mod_temp1'] = df.loc[:, 'TArray']\n",
    "tdata_meas['met1_mod_temp2'] = df.loc[:, 'TArray']\n",
    "tdata_meas['met2_mod_temp1'] = df.loc[:, 'TArray']\n",
    "tdata_meas['met2_mod_temp2'] = df.loc[:, 'TArray']\n",
    "tdata_meas['met1_windspeed'] = df.loc[:, 'WindVel']\n",
    "tdata_meas['met2_windspeed'] = df.loc[:, 'WindVel']\n",
    "\n",
    "tdata_meas['meter_power'] = df.loc[:, 'E_Grid']\n",
    "\n",
    "for num in range(8):\n",
    "    inv = 'inv' + str(num + 1) + '_power'\n",
    "    tdata_meas[inv] = df.loc[:, 'EOutInv'] / 8"
   ]
  },
  {
   "cell_type": "code",
   "execution_count": null,
   "metadata": {},
   "outputs": [],
   "source": [
    "tdata_meas[['met1_mod_temp2', 'met1_amb_temp']].plot()"
   ]
  },
  {
   "cell_type": "code",
   "execution_count": null,
   "metadata": {},
   "outputs": [],
   "source": [
    "# ix = tdata_meas.query('met1_mod_temp1 - met1_amb_temp < 0').index\n",
    "\n",
    "# tdata_meas.loc[ix, 'met1_mod_temp1'] = tdata_meas.loc[ix,'met1_amb_temp'] - 2.2"
   ]
  },
  {
   "cell_type": "code",
   "execution_count": null,
   "metadata": {},
   "outputs": [],
   "source": [
    "tdata_meas.head()"
   ]
  },
  {
   "cell_type": "markdown",
   "metadata": {},
   "source": [
    "### Creating multi-index to before exporting as csv to import using captest"
   ]
  },
  {
   "cell_type": "code",
   "execution_count": null,
   "metadata": {},
   "outputs": [],
   "source": [
    "# tdata_meas_mindex = to_mindex(tdata_meas)"
   ]
  },
  {
   "cell_type": "code",
   "execution_count": null,
   "metadata": {},
   "outputs": [],
   "source": [
    "# tdata_meas_mindex.to_csv('./data/test_dat_before_err.csv')"
   ]
  },
  {
   "cell_type": "code",
   "execution_count": null,
   "metadata": {},
   "outputs": [],
   "source": [
    "# tdata_meas_mindex.head()"
   ]
  },
  {
   "cell_type": "markdown",
   "metadata": {},
   "source": [
    "## Injecting randomness into pvsyst data to simulate measured data"
   ]
  },
  {
   "cell_type": "code",
   "execution_count": null,
   "metadata": {},
   "outputs": [],
   "source": [
    "#make copy of df w/o randomness\n",
    "tdm_rand = tdata_meas.copy()"
   ]
  },
  {
   "cell_type": "code",
   "execution_count": null,
   "metadata": {},
   "outputs": [],
   "source": [
    "# tdm_rand.columns.tolist()"
   ]
  },
  {
   "cell_type": "code",
   "execution_count": null,
   "metadata": {},
   "outputs": [],
   "source": [
    "met2 = ['met2_poa_refcell', 'met2_poa_pyranometer', 'met2_ghi_pyranometer', 'met2_amb_temp',\n",
    "        'met2_mod_temp1', 'met2_mod_temp2', 'met2_windspeed']"
   ]
  },
  {
   "cell_type": "code",
   "execution_count": null,
   "metadata": {},
   "outputs": [],
   "source": [
    "not_no_night = tdm_rand.columns.tolist()[6:14]"
   ]
  },
  {
   "cell_type": "code",
   "execution_count": null,
   "metadata": {},
   "outputs": [],
   "source": [
    "no_night = tdm_rand.columns.tolist()[:6]\n",
    "no_night.extend(tdm_rand.columns.tolist()[-9:])"
   ]
  },
  {
   "cell_type": "code",
   "execution_count": null,
   "metadata": {},
   "outputs": [],
   "source": [
    "seeds = [43, 34, 657, 342, 23, 238, 123, 3, 45, 90, 84, 29, 346, 34, 934]\n",
    "for i, col in enumerate(no_night):\n",
    "    tdm_rand = inject_err(tdm_rand, col, meas_err='std', flt_val='> 0.1', flt_col=col, seed=seeds[i])"
   ]
  },
  {
   "cell_type": "code",
   "execution_count": null,
   "metadata": {},
   "outputs": [],
   "source": [
    "seeds = [87, 7848, 298, 209, 983, 292, 20, 2]\n",
    "for i, col in enumerate(not_no_night):\n",
    "    tdm_rand = inject_err(tdm_rand, col, meas_err='std', seed=seeds[i])"
   ]
  },
  {
   "cell_type": "code",
   "execution_count": null,
   "metadata": {},
   "outputs": [],
   "source": [
    "# tdm_rand = inject_err(tdm_rand, 'meter_power', meas_err=3, flt_val=' >= 100',\n",
    "#                       flt_col='met1_ghi_pyranometer', perc=10, seed=234)"
   ]
  },
  {
   "cell_type": "code",
   "execution_count": null,
   "metadata": {},
   "outputs": [],
   "source": [
    "# tdm_rand = inject_err(tdm_rand, 'meter_power', meas_err=6, flt_val=' >= 100',\n",
    "#                       flt_col='met1_ghi_pyranometer', perc=1, seed=234)"
   ]
  },
  {
   "cell_type": "code",
   "execution_count": null,
   "metadata": {},
   "outputs": [],
   "source": [
    "# tdm_rand = inject_err(tdm_rand, 'meter_power', meas_err=4.0, flt_val=' >= 500',\n",
    "#                       flt_col='met1_ghi_pyranometer', perc=1, seed=87)"
   ]
  },
  {
   "cell_type": "code",
   "execution_count": null,
   "metadata": {},
   "outputs": [],
   "source": [
    "seeds = [843, 294, 82, 2854, 9483, 54]\n",
    "for i,col in enumerate(no_night[:6]):\n",
    "    tdm_rand = inject_err(tdm_rand, col, meas_err='outlier', flt_val=' > 10',\n",
    "                          flt_col='met1_poa_pyranometer', perc=30, between_time=('13:00', '16:00'), seed=seeds[i])"
   ]
  },
  {
   "cell_type": "code",
   "execution_count": null,
   "metadata": {},
   "outputs": [],
   "source": [
    "# seeds = [843, 294, 82, 2854, 9483, 54]\n",
    "# for i,col in enumerate(no_night[:6]):\n",
    "#     tdm_rand = inject_err(tdm_rand, col, meas_err=0.1, flt_val=' > 10',\n",
    "#                           flt_col='met1_poa_pyranometer', perc=30, between_time=('15:00', '16:00'), seed=seeds[i])"
   ]
  },
  {
   "cell_type": "code",
   "execution_count": null,
   "metadata": {},
   "outputs": [],
   "source": [
    "seeds = [843, 294, 82, 2854, 9483, 54]\n",
    "for i,col in enumerate(no_night[:6]):\n",
    "    tdm_rand = inject_err(tdm_rand, col, meas_err=10, flt_val=' > 10',\n",
    "                          flt_col='met1_poa_pyranometer', perc=2, between_time=('13:00', '16:00'), seed=seeds[i])"
   ]
  },
  {
   "cell_type": "code",
   "execution_count": null,
   "metadata": {},
   "outputs": [],
   "source": [
    "seeds = [843, 294, 82, 2854, 9483, 54]\n",
    "for i,col in enumerate(no_night[:6]):\n",
    "    tdm_rand = inject_err(tdm_rand, col, meas_err='outlier', flt_val=' > 10',\n",
    "                          flt_col='met1_poa_pyranometer', perc=10, between_time=('8:30', '8:45'), seed=seeds[i])"
   ]
  },
  {
   "cell_type": "code",
   "execution_count": null,
   "metadata": {},
   "outputs": [],
   "source": [
    "# seeds = [843, 294, 82, 2854, 9483, 54]\n",
    "# for i,col in enumerate(no_night[:6]):\n",
    "#     tdm_rand = inject_err(tdm_rand, col, meas_err=12, flt_val=' > 10',\n",
    "#                           flt_col='met1_poa_pyranometer', perc=1, between_time=('8:30', '8:45'), seed=seeds[i])"
   ]
  },
  {
   "cell_type": "code",
   "execution_count": null,
   "metadata": {},
   "outputs": [],
   "source": [
    "# seeds = [843, 294, 82, 2854, 9483, 54]\n",
    "# for i,col in enumerate(no_night[:6]):\n",
    "#     tdm_rand = inject_err(tdm_rand, col, meas_err='outlier', flt_val=' > 10',\n",
    "#                           flt_col='met1_poa_pyranometer', perc=10, between_time=('14:00', '16:00'), seed=seeds[i])"
   ]
  },
  {
   "cell_type": "code",
   "execution_count": null,
   "metadata": {},
   "outputs": [],
   "source": [
    "mtr_ix = tdm_rand.loc[:,'meter_power'].between_time('13:00', '18:00').index"
   ]
  },
  {
   "cell_type": "code",
   "execution_count": null,
   "metadata": {},
   "outputs": [],
   "source": [
    "mtr_reduced = (tdm_rand.loc[:,'meter_power'].between_time('13:00', '18:00') * .95) - 100000"
   ]
  },
  {
   "cell_type": "code",
   "execution_count": null,
   "metadata": {},
   "outputs": [],
   "source": [
    "tdm_rand.loc[mtr_ix, 'meter_power'] = mtr_reduced"
   ]
  },
  {
   "cell_type": "code",
   "execution_count": null,
   "metadata": {},
   "outputs": [],
   "source": [
    "tdm_rand.loc['10/10/1990 12:50':'10/10/1990 12:55', 'met1_poa_refcell'] = 150"
   ]
  },
  {
   "cell_type": "markdown",
   "metadata": {},
   "source": [
    "Am re-running the above to see if the graph below stays the same with everything seeded.\n",
    "It does not because of the np.random.choice lines used by the percentage argument in inject_err\n",
    "Looking for way to 'seed' random.choice\n",
    "\n",
    "looks like need to use the choice method of a np.random.RandomState object"
   ]
  },
  {
   "cell_type": "code",
   "execution_count": null,
   "metadata": {},
   "outputs": [],
   "source": [
    "tdm_rand.plot(x='met1_poa_refcell', y='meter_power', kind='scatter', alpha=0.2)"
   ]
  },
  {
   "cell_type": "code",
   "execution_count": null,
   "metadata": {},
   "outputs": [],
   "source": [
    "tdm_rand_resample = tdm_rand.copy().resample('5min').mean()"
   ]
  },
  {
   "cell_type": "code",
   "execution_count": null,
   "metadata": {},
   "outputs": [],
   "source": [
    "tdm_rand_resample.plot(x='met1_poa_refcell', y='meter_power', kind='scatter', alpha=0.2)"
   ]
  },
  {
   "cell_type": "code",
   "execution_count": null,
   "metadata": {},
   "outputs": [],
   "source": [
    "tdm_rand_resample.loc['10/09/90 13:05':'10/09/90 14:20','met1_amb_temp'] = pd.np.NaN"
   ]
  },
  {
   "cell_type": "code",
   "execution_count": null,
   "metadata": {},
   "outputs": [],
   "source": [
    "for col in met2:\n",
    "    tdm_rand_resample.loc['10/11/90 16:00':'10/11/90 17:15', col] = tdm_rand_resample.loc['10/11/90 16:00', col]"
   ]
  },
  {
   "cell_type": "code",
   "execution_count": null,
   "metadata": {},
   "outputs": [],
   "source": [
    "tdm_rand_resample_mindex = to_mindex(tdm_rand_resample)"
   ]
  },
  {
   "cell_type": "code",
   "execution_count": null,
   "metadata": {},
   "outputs": [],
   "source": [
    "tdm_rand_resample_mindex.to_csv('./data/example_meas_data.csv')"
   ]
  },
  {
   "cell_type": "code",
   "execution_count": null,
   "metadata": {},
   "outputs": [],
   "source": []
  },
  {
   "cell_type": "code",
   "execution_count": null,
   "metadata": {},
   "outputs": [],
   "source": []
  }
 ],
 "metadata": {
  "language_info": {
   "name": "python",
   "pygments_lexer": "ipython3"
  }
 },
 "nbformat": 4,
 "nbformat_minor": 2
}
