{
 "cells": [
  {
   "cell_type": "markdown",
   "metadata": {},
   "source": [
    "# Clear Sky Examples\n",
    "\n",
    "## Overview of Functionality\n",
    "\n",
    "The captest clear sky functionality is based entirely on wrapping and integrating the clear sky modeling capabilities of the [pvlib-python package](https://pvlib-python.readthedocs.io/en/latest/index.html).  The primary intent of this functionality is to provide the option to easily calculate and plot modeled clear sky data as part of the workflow of loading, visualizing, and validating data from pyranometers.\n",
    "\n",
    "When setting clear_sky to True when calling the CapData load_data method, the csky function will be called when loading data and the modeled clear sky POA and GHI data will be added to the dataframe.  The plot method will detect these columns and plot them as dashed lines with the measured irradiance data.\n",
    "\n",
    "Below is a basic example of this functionality using data from the NREL Solar Radiation Research Library.\n",
    "\n",
    "Andreas, A.; Stoffel, T.; (1981). NREL Solar Radiation Research Laboratory (SRRL): Baseline\n",
    "Measurement System (BMS); Golden, Colorado (Data); NREL Report No. DA-5500-56488.\n",
    "http://dx.doi.org/10.5439/1052221 "
   ]
  },
  {
   "cell_type": "code",
   "execution_count": null,
   "metadata": {},
   "outputs": [],
   "source": [
    "import pandas as pd\n",
    "# import pvlib \n",
    "# from pvlib.location import Location\n",
    "# from pvlib.pvsystem import PVSystem\n",
    "# from pvlib.tracking import SingleAxisTracker\n",
    "\n",
    "from bokeh.io import output_notebook\n",
    "import pytz\n",
    "\n",
    "output_notebook()\n",
    "\n",
    "import captest as pvc"
   ]
  },
  {
   "cell_type": "code",
   "execution_count": null,
   "metadata": {},
   "outputs": [],
   "source": [
    "meas_nrel = pvc.CapData()"
   ]
  },
  {
   "cell_type": "code",
   "execution_count": null,
   "metadata": {},
   "outputs": [],
   "source": [
    "loc = {'latitude': 39.742, 'longitude': -105.18, 'altitude': 1828.8, 'tz': 'Etc/GMT+7'}\n",
    "sys = {'surface_tilt': 40, 'surface_azimuth': 180, 'albedo': 0.2}"
   ]
  },
  {
   "cell_type": "code",
   "execution_count": null,
   "metadata": {},
   "outputs": [],
   "source": [
    "meas_nrel.load_data(fname='nrel_data.csv', source='AlsoEnergy', clear_sky=True, loc=loc, sys=sys)"
   ]
  },
  {
   "cell_type": "code",
   "execution_count": null,
   "metadata": {},
   "outputs": [],
   "source": [
    "meas_nrel.plot(ncols=1, width=800, merge_grps=['irr'], \n",
    "               subset=['irr_comb'])"
   ]
  },
  {
   "cell_type": "markdown",
   "metadata": {},
   "source": [
    "Viewing a few rows of the dataframe within the CapData object shows that the modeled clear sky POA and GHI irradiance have been added as columns when loading the data."
   ]
  },
  {
   "cell_type": "code",
   "execution_count": null,
   "metadata": {},
   "outputs": [],
   "source": [
    "meas_nrel.df['3/10/2019 12:00':'3/10/2019 12:03']"
   ]
  },
  {
   "cell_type": "markdown",
   "metadata": {},
   "source": [
    "## Explanation of csky Functions\n",
    "\n",
    "The clear sky functionality is based around 4 top-level functions:\n",
    "- pvlib_location\n",
    "- pvlib_system\n",
    "- get_tz_index\n",
    "- csky\n",
    "\n",
    "### Location and System wrappers: `pvlib_location` and `pvlib_system`\n",
    "\n",
    "The first two, pvlib_location and pvlib_system, are simply wrappers that generate pvlib location and system objects from a dictionary.  The intent of providing these wrapper functions is to allow the captest user to be able to simply specify a dictionary for each without needing to interact with pvlib directly.  \n",
    "\n",
    "The location dictionary defined in the example can be used with the `pvlib_location` function to create a pvlib location object."
   ]
  },
  {
   "cell_type": "code",
   "execution_count": null,
   "metadata": {},
   "outputs": [],
   "source": [
    "loc"
   ]
  },
  {
   "cell_type": "code",
   "execution_count": null,
   "metadata": {},
   "outputs": [],
   "source": [
    "bms_location = pvc.pvlib_location(loc)"
   ]
  },
  {
   "cell_type": "code",
   "execution_count": null,
   "metadata": {},
   "outputs": [],
   "source": [
    "type(bms_location)"
   ]
  },
  {
   "cell_type": "code",
   "execution_count": null,
   "metadata": {},
   "outputs": [],
   "source": [
    "bms_location"
   ]
  },
  {
   "cell_type": "markdown",
   "metadata": {},
   "source": [
    "Similarly, the `pvlib_system` function can be used to generate a pvlib system object.\n",
    "\n",
    "Creating a pvlib ModelChain object requires providing a system object with module and inverter parameters defined.  The captest pvlib_system function provides arbitrary module and inverter parameters, so the captest user does not need to find and specify these.  The module and inverter parameters are not used when calculating the clear sky data."
   ]
  },
  {
   "cell_type": "code",
   "execution_count": null,
   "metadata": {},
   "outputs": [],
   "source": [
    "sys"
   ]
  },
  {
   "cell_type": "code",
   "execution_count": null,
   "metadata": {},
   "outputs": [],
   "source": [
    "bms_system = pvc.pvlib_system(sys)"
   ]
  },
  {
   "cell_type": "code",
   "execution_count": null,
   "metadata": {},
   "outputs": [],
   "source": [
    "type(bms_system)"
   ]
  },
  {
   "cell_type": "code",
   "execution_count": null,
   "metadata": {},
   "outputs": [],
   "source": [
    "bms_system"
   ]
  },
  {
   "cell_type": "code",
   "execution_count": null,
   "metadata": {},
   "outputs": [],
   "source": [
    "bms_system.module_parameters.head()"
   ]
  },
  {
   "cell_type": "code",
   "execution_count": null,
   "metadata": {},
   "outputs": [],
   "source": [
    "bms_system.inverter_parameters.head()"
   ]
  },
  {
   "cell_type": "markdown",
   "metadata": {},
   "source": [
    "### Get Timezone Index `get_tz_index`\n",
    "\n",
    "The pvlib methods used to calculate clear sky irradiance require a time-zone aware datetime index as an argument.  The get_tz_index function returns a time-zone aware datetime index given a datetime index or a dataframe.  If the passed argument is already timezone aware the index will be used as is otherwise the timezone will be set using the timezone in the location dictionary.\n",
    "\n",
    "**Be sure the timezone matches the timezone of the measured data.**\n",
    "\n",
    "For example, the time stamps of the example data from NREL are in MST and do not adjust for daylight savings, so specifying a timezone that does follow daylight savings, like 'America/Denver' will cause an error. Please refer to the pvlib documentaiton, which has a helpful [section on timezones](https://pvlib-python.readthedocs.io/en/latest/timetimezones.html), for more information.\n",
    "\n",
    "The example usage of `get_tz_index` below matches the usage within the csky function in the example above. The function returns a time-zone aware datetime index."
   ]
  },
  {
   "cell_type": "code",
   "execution_count": null,
   "metadata": {},
   "outputs": [],
   "source": [
    "print(meas_nrel.df.index.tz)"
   ]
  },
  {
   "cell_type": "code",
   "execution_count": null,
   "metadata": {},
   "outputs": [],
   "source": [
    "pvc.get_tz_index(meas_nrel.df, loc)"
   ]
  },
  {
   "cell_type": "markdown",
   "metadata": {},
   "source": [
    "Passing the datetime index rather than the dataframe will return the same time-zone aware index."
   ]
  },
  {
   "cell_type": "code",
   "execution_count": null,
   "metadata": {},
   "outputs": [],
   "source": [
    "pvc.get_tz_index(meas_nrel.df.index, loc)"
   ]
  },
  {
   "cell_type": "markdown",
   "metadata": {},
   "source": [
    "The below example shows the behavior if the time_source, dataframe or datetime index, already has a timezone when passed to `get_tz_index`."
   ]
  },
  {
   "cell_type": "code",
   "execution_count": null,
   "metadata": {},
   "outputs": [],
   "source": [
    "df = meas_nrel.df.copy()"
   ]
  },
  {
   "cell_type": "code",
   "execution_count": null,
   "metadata": {},
   "outputs": [],
   "source": [
    "df.index = df.index.tz_localize('America/Caracas')"
   ]
  },
  {
   "cell_type": "code",
   "execution_count": null,
   "metadata": {},
   "outputs": [],
   "source": [
    "loc"
   ]
  },
  {
   "cell_type": "code",
   "execution_count": null,
   "metadata": {},
   "outputs": [],
   "source": [
    "pvc.get_tz_index(df, loc)"
   ]
  },
  {
   "cell_type": "markdown",
   "metadata": {},
   "source": [
    "The timezone of the time_source is used and a warning is raised to alert the user that the timezone of the time_source and the passed location dictionary do not match."
   ]
  },
  {
   "cell_type": "markdown",
   "metadata": {},
   "source": [
    "### Clear Sky Function `csky`\n",
    "\n",
    "The clear sky function calls `pvlib_location`, `pvlib_system`, and `get_tz_index` and genarates pvlib objects to calculate modeled clear sky GHI and POA.  The essential functionality is shown in the example where the clear sky POA and GHI are added to the imported data.  `csky` can also return any componenet of the modeled csky data directly as shown below."
   ]
  },
  {
   "cell_type": "code",
   "execution_count": null,
   "metadata": {},
   "outputs": [],
   "source": [
    "poa_ghi = pvc.csky(meas_nrel.df, loc=loc, sys=sys, concat=False, output='both')\n",
    "poa_ghi['3/10/2019 12:00':'3/10/2019 12:05']"
   ]
  },
  {
   "cell_type": "code",
   "execution_count": null,
   "metadata": {},
   "outputs": [],
   "source": [
    "all_irrad_comp = pvc.csky(meas_nrel.df, loc=loc, sys=sys, concat=False, output='all')\n",
    "all_irrad_comp['3/10/2019 12:00':'3/10/2019 12:05']"
   ]
  },
  {
   "cell_type": "markdown",
   "metadata": {},
   "source": [
    "## Tracking System Example"
   ]
  },
  {
   "cell_type": "code",
   "execution_count": null,
   "metadata": {},
   "outputs": [],
   "source": []
  },
  {
   "cell_type": "code",
   "execution_count": null,
   "metadata": {},
   "outputs": [],
   "source": [
    "loc = {'latitude': 43.18416667, 'longitude': -75.4327778, 'altitude': 496, 'tz': 'America/New_York'}\n",
    "sys = {'surface_tilt': 25, 'surface_azimuth': 180, 'albedo': 0.2}\n",
    "\n",
    "# or for tracker\n",
    "\n",
    "#sys = {'axis_tilt': 0, 'axis_azimuth': 0, 'max_angle': 90, 'backtrack': True, 'gcr': 0.2, 'albedo': 0.2}"
   ]
  },
  {
   "cell_type": "code",
   "execution_count": null,
   "metadata": {},
   "outputs": [],
   "source": [
    "mm = pvc.CapData()"
   ]
  },
  {
   "cell_type": "code",
   "execution_count": null,
   "metadata": {},
   "outputs": [],
   "source": [
    "mm.load_data(path='./', fname='martino_test_data.csv', clear_sky=True, loc=loc, sys=sys, source='AlsoEnergy')"
   ]
  },
  {
   "cell_type": "code",
   "execution_count": null,
   "metadata": {},
   "outputs": [],
   "source": [
    "# mm.df.head()"
   ]
  },
  {
   "cell_type": "code",
   "execution_count": null,
   "metadata": {},
   "outputs": [],
   "source": [
    "mm.plot(subset=['irr_comb'], width=800)"
   ]
  },
  {
   "cell_type": "code",
   "execution_count": null,
   "metadata": {},
   "outputs": [],
   "source": [
    "pwd"
   ]
  },
  {
   "cell_type": "code",
   "execution_count": null,
   "metadata": {},
   "outputs": [],
   "source": [
    "nrel = pd.read_csv('./nrel_data.csv', parse_dates=[['DATE (MM/DD/YYYY)', 'MST']])"
   ]
  },
  {
   "cell_type": "code",
   "execution_count": null,
   "metadata": {},
   "outputs": [],
   "source": [
    "nrel.set_index('DATE (MM/DD/YYYY)_MST', inplace=True)"
   ]
  },
  {
   "cell_type": "code",
   "execution_count": null,
   "metadata": {},
   "outputs": [],
   "source": [
    "nrel.head()"
   ]
  },
  {
   "cell_type": "code",
   "execution_count": null,
   "metadata": {},
   "outputs": [],
   "source": [
    "nrel.rename(columns={'Global 40-South CMP11 [W/m^2]': 'POA 40-South CMP11 [W/m^2]'}, inplace=True)"
   ]
  },
  {
   "cell_type": "code",
   "execution_count": null,
   "metadata": {},
   "outputs": [],
   "source": [
    "nrel.to_csv('nrel_data_datetime_index.csv')"
   ]
  },
  {
   "cell_type": "code",
   "execution_count": null,
   "metadata": {},
   "outputs": [],
   "source": []
  },
  {
   "cell_type": "code",
   "execution_count": null,
   "metadata": {},
   "outputs": [],
   "source": []
  },
  {
   "cell_type": "code",
   "execution_count": null,
   "metadata": {},
   "outputs": [],
   "source": []
  },
  {
   "cell_type": "code",
   "execution_count": null,
   "metadata": {},
   "outputs": [],
   "source": []
  },
  {
   "cell_type": "code",
   "execution_count": null,
   "metadata": {},
   "outputs": [],
   "source": [
    "loc_obj = pvc.pvlib_location(loc)\n",
    "sys_obj = pvc.pvlib_system(sys)"
   ]
  },
  {
   "cell_type": "code",
   "execution_count": null,
   "metadata": {},
   "outputs": [],
   "source": [
    "mc = pvlib.modelchain.ModelChain(sys_obj, loc_obj)"
   ]
  },
  {
   "cell_type": "code",
   "execution_count": null,
   "metadata": {},
   "outputs": [],
   "source": [
    "mc.complete_irradiance(meas_nrel.df, )"
   ]
  },
  {
   "cell_type": "code",
   "execution_count": null,
   "metadata": {},
   "outputs": [],
   "source": [
    "mc.prepare_inputs(meas_nrel.df, )"
   ]
  },
  {
   "cell_type": "code",
   "execution_count": null,
   "metadata": {},
   "outputs": [],
   "source": []
  },
  {
   "cell_type": "code",
   "execution_count": null,
   "metadata": {},
   "outputs": [],
   "source": []
  },
  {
   "cell_type": "code",
   "execution_count": null,
   "metadata": {},
   "outputs": [],
   "source": []
  },
  {
   "cell_type": "code",
   "execution_count": null,
   "metadata": {},
   "outputs": [],
   "source": []
  },
  {
   "cell_type": "code",
   "execution_count": null,
   "metadata": {},
   "outputs": [],
   "source": []
  },
  {
   "cell_type": "code",
   "execution_count": null,
   "metadata": {},
   "outputs": [],
   "source": []
  },
  {
   "cell_type": "code",
   "execution_count": null,
   "metadata": {},
   "outputs": [],
   "source": [
    "loc = {'latitude': 30.274583,\n",
    "            'longitude': -97.740352,\n",
    "            'altitude': 500,\n",
    "            'tz': 'America/Chicago'}\n",
    "\n",
    "sys = {'surface_tilt': 20,\n",
    "            'surface_azimuth': 180,\n",
    "            'albedo': 0.2}\n",
    "\n",
    "# or for tracker\n",
    "\n",
    "#sys = {'axis_tilt': 0, 'axis_azimuth': 0, 'max_angle': 90, 'backtrack': True, 'gcr': 0.2, 'albedo': 0.2}"
   ]
  },
  {
   "cell_type": "code",
   "execution_count": null,
   "metadata": {},
   "outputs": [],
   "source": [
    "meas = pvc.CapData()\n",
    "df = meas.load_das('../tests/data/', 'example_meas_data.csv')"
   ]
  },
  {
   "cell_type": "code",
   "execution_count": null,
   "metadata": {},
   "outputs": [],
   "source": [
    "print(df.index.tz)"
   ]
  },
  {
   "cell_type": "code",
   "execution_count": null,
   "metadata": {},
   "outputs": [],
   "source": [
    "csky_ghi_poa = pvc.csky(df, loc=loc, sys=sys)"
   ]
  },
  {
   "cell_type": "code",
   "execution_count": null,
   "metadata": {},
   "outputs": [],
   "source": [
    "print(csky_ghi_poa.index.tz)"
   ]
  },
  {
   "cell_type": "code",
   "execution_count": null,
   "metadata": {},
   "outputs": [],
   "source": [
    "meas.plot(subset=['irr_comb'], width=800)"
   ]
  },
  {
   "cell_type": "markdown",
   "metadata": {},
   "source": [
    "The test data is modified tmy3 data.  TMY3 data is in standard time for the entire year (no DST).  This test data period is in October during DST, so the timezone specified for the location must be central time w/o DST, which is UTC-6.  This results in data aligment, but not perfect.  I think the remaining lack of alignment is due to modifications to the data.\n",
    "\n",
    "Need to develop a few tests for data aligment that use validated test data.\n",
    "- very clear days\n",
    "- known timezone and no uncert or issues with timestamps"
   ]
  },
  {
   "cell_type": "code",
   "execution_count": null,
   "metadata": {},
   "outputs": [],
   "source": []
  },
  {
   "cell_type": "code",
   "execution_count": null,
   "metadata": {},
   "outputs": [],
   "source": []
  },
  {
   "cell_type": "code",
   "execution_count": null,
   "metadata": {},
   "outputs": [],
   "source": []
  },
  {
   "cell_type": "code",
   "execution_count": null,
   "metadata": {},
   "outputs": [],
   "source": []
  },
  {
   "cell_type": "code",
   "execution_count": null,
   "metadata": {},
   "outputs": [],
   "source": [
    "csky_cd = pvc.CapData()"
   ]
  },
  {
   "cell_type": "code",
   "execution_count": null,
   "metadata": {},
   "outputs": [],
   "source": [
    "csky_cd.df = pvc.csky(meas.df, loc=loc, sys=sys, concat=False, output='both')"
   ]
  },
  {
   "cell_type": "code",
   "execution_count": null,
   "metadata": {},
   "outputs": [],
   "source": [
    "csky_cd._CapData__set_trans()"
   ]
  },
  {
   "cell_type": "code",
   "execution_count": null,
   "metadata": {},
   "outputs": [],
   "source": [
    "csky_cd.df.index = csky_cd.df.index.tz_localize(None)"
   ]
  },
  {
   "cell_type": "code",
   "execution_count": null,
   "metadata": {},
   "outputs": [],
   "source": [
    "csky_cd.plot(subset=['irr_comb'], width=800)"
   ]
  },
  {
   "cell_type": "code",
   "execution_count": null,
   "metadata": {},
   "outputs": [],
   "source": []
  },
  {
   "cell_type": "code",
   "execution_count": null,
   "metadata": {},
   "outputs": [],
   "source": []
  },
  {
   "cell_type": "code",
   "execution_count": null,
   "metadata": {},
   "outputs": [],
   "source": []
  },
  {
   "cell_type": "code",
   "execution_count": null,
   "metadata": {},
   "outputs": [],
   "source": []
  },
  {
   "cell_type": "code",
   "execution_count": null,
   "metadata": {},
   "outputs": [],
   "source": [
    "pvlib.location.Location()"
   ]
  },
  {
   "cell_type": "code",
   "execution_count": null,
   "metadata": {},
   "outputs": [],
   "source": [
    "pvc.capdata.csky_ghi()"
   ]
  },
  {
   "cell_type": "code",
   "execution_count": null,
   "metadata": {},
   "outputs": [],
   "source": [
    "meas.load_das()"
   ]
  },
  {
   "cell_type": "code",
   "execution_count": null,
   "metadata": {},
   "outputs": [],
   "source": [
    "type(pd.Series())"
   ]
  },
  {
   "cell_type": "code",
   "execution_count": null,
   "metadata": {},
   "outputs": [],
   "source": [
    "cd = pvc.CapData()"
   ]
  },
  {
   "cell_type": "markdown",
   "metadata": {},
   "source": [
    "I'm thinking the signature for the load_data method would change to something like the below where the loc and sys keywords are dictionaries of the data required to instantiate pvlib Location and System objects.\n",
    "- clear_sky default would be False with loc=None and sys=None\n",
    "- if clear_sky is true would require these dictionaries"
   ]
  },
  {
   "cell_type": "code",
   "execution_count": null,
   "metadata": {},
   "outputs": [],
   "source": [
    "cd.load_data(path='./data/', fname=None, set_trans=True, source=None, load_pvsyst=False,\n",
    "             clear_sky=True, loc=loc, sys=sys, **kwargs)\n",
    "\"\"\"\n",
    "\n",
    "clear_sky : bool or str, default False\n",
    "    Default is to not calculate clear sky irradiance when loading data.  Set to true to\n",
    "    use the pvlib package to calculate clear sky poa and ghi.  When True, requires passing\n",
    "    a dictionary to the loc and sys keywords as defined below.\n",
    "    \n",
    "    loc = {'latitude': float,\n",
    "           'longitude': float,\n",
    "           'altitude': float/int,\n",
    "           'tz': }\n",
    "    sys = {}\n",
    "    \n",
    "    Set to 'ghi' to calculate only global horizontal clear sky.  This option only requires\n",
    "    a dictionary passed to the 'loc' keyword.\n",
    "\"\"\""
   ]
  },
  {
   "cell_type": "markdown",
   "metadata": {},
   "source": [
    "Where to handle the timezone issue?  Require dataframe passed to have timezone?"
   ]
  },
  {
   "cell_type": "code",
   "execution_count": null,
   "metadata": {},
   "outputs": [],
   "source": [
    "def csky_ghi(df, loc):\n",
    "    \"\"\"\n",
    "    Creates a pvlib location object and returns clear sky GHI irradiance using the get_clearsky method.\n",
    "    \n",
    "    Parameters\n",
    "    ----------\n",
    "    df : dataframe with datetime index\n",
    "        Clear sky ghi is calculated for times in dataframe index.\n",
    "    loc : dict\n",
    "        Dictionary of values required to instantiate a pvlib Location object.\n",
    "    \n",
    "    Returns\n",
    "    -------\n",
    "    Tuple of the location object and the clear sky GHI as a series.\n",
    "    \"\"\"\n",
    "    location = pvlib.location.Location(**loc_dict)\n",
    "    return (location, location.get_clearsky(times=ix or df.index))   "
   ]
  },
  {
   "cell_type": "markdown",
   "metadata": {},
   "source": [
    "Example dictionaries:"
   ]
  },
  {
   "cell_type": "code",
   "execution_count": null,
   "metadata": {},
   "outputs": [],
   "source": [
    "loc = {'latitude': 30.274583, 'longitude': -97.740352, 'altitude': 500, 'tz': 'America/Chicago'}\n",
    "sys = {'surface_tilt': 20, 'surface_azimuth': 180, 'albedo': 0.2}\n",
    "\n",
    "# or for tracker\n",
    "\n",
    "#sys = {'axis_tilt': 0, 'axis_azimuth': 0, 'max_angle': 90, 'backtrack': True, 'gcr': 0.2, 'albedo': 0.2}"
   ]
  },
  {
   "cell_type": "markdown",
   "metadata": {},
   "source": [
    "Use something like the below to check if user passes a system dictionary for a tracker or fixed tilt and create the appropriate pvlib object."
   ]
  },
  {
   "cell_type": "code",
   "execution_count": null,
   "metadata": {},
   "outputs": [],
   "source": [
    "trck_kwords = ['axis_tilt', 'axis_azimuth', 'max_angle', 'backtrack', 'gcr']\n",
    "if any(kword in sys.keys() for kword in trck_kwords):\n",
    "    system = pvlib.tracking.SingleAxisTracker(**sys, module_parameters=sandia_module, inverter_parameters=cec_inverter)\n",
    "else:\n",
    "    system = pvlib.pvsystem.PVSystem(**sys, module_parameters=sandia_module, inverter_parameters=cec_inverter)"
   ]
  },
  {
   "cell_type": "markdown",
   "metadata": {},
   "source": [
    "I was mostly testign the keyword unpacking in the below fucntions; I don't think there necessarily needs to be functions for this step."
   ]
  },
  {
   "cell_type": "code",
   "execution_count": null,
   "metadata": {},
   "outputs": [],
   "source": [
    "pvlib.tracking.SingleAxisTracker()"
   ]
  },
  {
   "cell_type": "code",
   "execution_count": null,
   "metadata": {},
   "outputs": [],
   "source": [
    "def make_loc(loc_dict):\n",
    "    return pvlib.location.Location(**loc_dict)"
   ]
  },
  {
   "cell_type": "markdown",
   "metadata": {},
   "source": [
    "Instatiating a model chain object requires a system object that has modules and inverters specified.  This is kind of annoying for this use case as I'm not going past the step of calculating the total poa irradiance.  I am thinking for now that I will just define a random module and inverter within captest to work around this and possibly submit a request to pvlib to change this behavior.  Then if it changes, I can just remove the module and inverter definitions."
   ]
  },
  {
   "cell_type": "code",
   "execution_count": null,
   "metadata": {},
   "outputs": [],
   "source": [
    "def make_sys(sys_dict):\n",
    "    sandia_modules = pvlib.pvsystem.retrieve_sam('SandiaMod')\n",
    "    cec_inverters = pvlib.pvsystem.retrieve_sam('cecinverter')\n",
    "    sandia_module = sandia_modules['Canadian_Solar_CS5P_220M___2009_']\n",
    "    cec_inverter = cec_inverters['ABB__MICRO_0_25_I_OUTD_US_208_208V__CEC_2014_']\n",
    "    system = pvlib.pvsystem.PVSystem(**sys_dict, module_parameters=sandia_module, inverter_parameters=cec_inverter)\n",
    "    return system"
   ]
  },
  {
   "cell_type": "code",
   "execution_count": null,
   "metadata": {},
   "outputs": [],
   "source": [
    "location = make_loc(loc)"
   ]
  },
  {
   "cell_type": "code",
   "execution_count": null,
   "metadata": {},
   "outputs": [],
   "source": [
    "system = make_sys(sys)"
   ]
  },
  {
   "cell_type": "code",
   "execution_count": null,
   "metadata": {},
   "outputs": [],
   "source": [
    "# location = pvlib.location.Location(latitude=30.2, longitude=-60)"
   ]
  },
  {
   "cell_type": "code",
   "execution_count": null,
   "metadata": {},
   "outputs": [],
   "source": [
    "# sandia_modules = pvlib.pvsystem.retrieve_sam('SandiaMod')\n",
    "# cec_inverters = pvlib.pvsystem.retrieve_sam('cecinverter')\n",
    "# sandia_module = sandia_modules['Canadian_Solar_CS5P_220M___2009_']\n",
    "# cec_inverter = cec_inverters['ABB__MICRO_0_25_I_OUTD_US_208_208V__CEC_2014_']\n",
    "# system = pvlib.pvsystem.PVSystem(surface_tilt=20, albedo=0.2, module_parameters=sandia_module, inverter_parameters=cec_inverter)\n",
    "# track_sys = pvlib.tracking.SingleAxisTracker(module_parameters=sandia_module, inverter_parameters=cec_inverter, albedo=0.2)"
   ]
  },
  {
   "cell_type": "code",
   "execution_count": null,
   "metadata": {},
   "outputs": [],
   "source": [
    "mc = pvlib.modelchain.ModelChain(system, location)"
   ]
  },
  {
   "cell_type": "code",
   "execution_count": null,
   "metadata": {},
   "outputs": [],
   "source": [
    "ix = pd.DatetimeIndex(start='1/1/2019', periods=8760, freq='H', tz='America/Chicago')"
   ]
  },
  {
   "cell_type": "code",
   "execution_count": null,
   "metadata": {},
   "outputs": [],
   "source": [
    "ix.tz_localize(None)"
   ]
  },
  {
   "cell_type": "code",
   "execution_count": null,
   "metadata": {},
   "outputs": [],
   "source": [
    "ix_no_tz[1631:1640]"
   ]
  },
  {
   "cell_type": "code",
   "execution_count": null,
   "metadata": {},
   "outputs": [],
   "source": [
    "ix_no_tz[7343:7354]"
   ]
  },
  {
   "cell_type": "code",
   "execution_count": null,
   "metadata": {},
   "outputs": [],
   "source": [
    "ix.tz_localize(None)"
   ]
  },
  {
   "cell_type": "code",
   "execution_count": null,
   "metadata": {},
   "outputs": [],
   "source": [
    "import pytz"
   ]
  },
  {
   "cell_type": "code",
   "execution_count": null,
   "metadata": {},
   "outputs": [],
   "source": [
    "pytz.timezone('America/Chicago') == ix.tz"
   ]
  },
  {
   "cell_type": "code",
   "execution_count": null,
   "metadata": {},
   "outputs": [],
   "source": [
    "mc.prepare_inputs(times=ix)"
   ]
  },
  {
   "cell_type": "code",
   "execution_count": null,
   "metadata": {},
   "outputs": [],
   "source": [
    "cols = ['poa_global', 'poa_direct', 'poa_diffuse', 'poa_sky_diffuse', 'poa_ground_diffuse', 'poa_ground_diffuse']\n",
    "all(col in mc.total_irrad.columns for col in cols)"
   ]
  },
  {
   "cell_type": "code",
   "execution_count": null,
   "metadata": {},
   "outputs": [],
   "source": [
    "pd.concat([mc.total_irrad, ghi], axis=1)"
   ]
  },
  {
   "cell_type": "code",
   "execution_count": null,
   "metadata": {},
   "outputs": [],
   "source": [
    "pd.DataFrame({'poa_mod_csky': mc.total_irrad['poa_global'], 'ghi_mod_csky': ghi['ghi']})"
   ]
  },
  {
   "cell_type": "code",
   "execution_count": null,
   "metadata": {},
   "outputs": [],
   "source": [
    "ghi = location.get_clearsky(times=ix)"
   ]
  },
  {
   "cell_type": "code",
   "execution_count": null,
   "metadata": {},
   "outputs": [],
   "source": [
    "ghi"
   ]
  },
  {
   "cell_type": "code",
   "execution_count": null,
   "metadata": {},
   "outputs": [],
   "source": [
    "mc.total_irrad.loc['2019-06-01':'2019-06-05', 'poa_global'].plot()"
   ]
  },
  {
   "cell_type": "code",
   "execution_count": null,
   "metadata": {},
   "outputs": [],
   "source": [
    "pwd"
   ]
  },
  {
   "cell_type": "code",
   "execution_count": null,
   "metadata": {},
   "outputs": [],
   "source": [
    "cd = pvc.CapData()\n",
    "df = meas.load_das('../tests/data/', 'example_meas_data.csv')"
   ]
  },
  {
   "cell_type": "code",
   "execution_count": null,
   "metadata": {},
   "outputs": [],
   "source": [
    "meas.df.index"
   ]
  },
  {
   "cell_type": "code",
   "execution_count": null,
   "metadata": {},
   "outputs": [],
   "source": [
    "pvc.get_tz_index(meas.df.index, loc).tz_localize(None, loc['tz'])"
   ]
  },
  {
   "cell_type": "code",
   "execution_count": null,
   "metadata": {},
   "outputs": [],
   "source": [
    "tst = pvc.CapData()"
   ]
  },
  {
   "cell_type": "code",
   "execution_count": null,
   "metadata": {},
   "outputs": [],
   "source": [
    "tst_df = tst.load_das('../tests/data/', 'example_meas_data.csv')"
   ]
  },
  {
   "cell_type": "code",
   "execution_count": null,
   "metadata": {},
   "outputs": [],
   "source": [
    "pvc.get_tz_index(tst_df, loc)"
   ]
  },
  {
   "cell_type": "code",
   "execution_count": null,
   "metadata": {},
   "outputs": [],
   "source": [
    "meas.df.head()"
   ]
  },
  {
   "cell_type": "code",
   "execution_count": null,
   "metadata": {},
   "outputs": [],
   "source": [
    "meas.trans"
   ]
  },
  {
   "cell_type": "code",
   "execution_count": null,
   "metadata": {},
   "outputs": [],
   "source": [
    "meas.plot(width=1000, ncols=1)"
   ]
  },
  {
   "cell_type": "code",
   "execution_count": null,
   "metadata": {},
   "outputs": [],
   "source": [
    "pvc.csky(df, loc=loc, sys=sys).loc[:, ['met1 poa_refcell', 'poa_mod_csky']].plot()"
   ]
  },
  {
   "cell_type": "code",
   "execution_count": null,
   "metadata": {},
   "outputs": [],
   "source": [
    "dict"
   ]
  },
  {
   "cell_type": "code",
   "execution_count": null,
   "metadata": {},
   "outputs": [],
   "source": [
    "pvc.csky(df, loc=loc, sys=sys, concat=False, output='all')"
   ]
  },
  {
   "cell_type": "code",
   "execution_count": null,
   "metadata": {},
   "outputs": [],
   "source": [
    "'ghi' in df.columns"
   ]
  },
  {
   "cell_type": "code",
   "execution_count": null,
   "metadata": {},
   "outputs": [],
   "source": [
    "df.index"
   ]
  },
  {
   "cell_type": "code",
   "execution_count": null,
   "metadata": {},
   "outputs": [],
   "source": [
    "1440/(24 * (60/5))"
   ]
  },
  {
   "cell_type": "code",
   "execution_count": null,
   "metadata": {},
   "outputs": [],
   "source": [
    "ix_3days = pd.DatetimeIndex(start='11/3/2018', periods=864, freq='5min', tz='America/Chicago')"
   ]
  },
  {
   "cell_type": "code",
   "execution_count": null,
   "metadata": {},
   "outputs": [],
   "source": [
    "12*24*2"
   ]
  },
  {
   "cell_type": "code",
   "execution_count": null,
   "metadata": {},
   "outputs": [],
   "source": [
    "ix_3days"
   ]
  },
  {
   "cell_type": "code",
   "execution_count": null,
   "metadata": {},
   "outputs": [],
   "source": [
    "ix_2days = pd.DatetimeIndex(start='3/9/2019', periods=576, freq='5min', tz='America/Chicago')"
   ]
  },
  {
   "cell_type": "code",
   "execution_count": null,
   "metadata": {},
   "outputs": [],
   "source": [
    "ix_dst = ix_3days.append(ix_2days)"
   ]
  },
  {
   "cell_type": "code",
   "execution_count": null,
   "metadata": {},
   "outputs": [],
   "source": [
    "df.index = ix_dst"
   ]
  },
  {
   "cell_type": "code",
   "execution_count": null,
   "metadata": {},
   "outputs": [],
   "source": [
    "df.columns"
   ]
  },
  {
   "cell_type": "code",
   "execution_count": null,
   "metadata": {},
   "outputs": [],
   "source": [
    "df['2018-11-04'].index[12:40]"
   ]
  },
  {
   "cell_type": "code",
   "execution_count": null,
   "metadata": {},
   "outputs": [],
   "source": [
    "df['2019-03-10'].index[12:40]"
   ]
  },
  {
   "cell_type": "code",
   "execution_count": null,
   "metadata": {},
   "outputs": [],
   "source": []
  }
 ],
 "metadata": {
  "language_info": {
   "name": "python",
   "pygments_lexer": "ipython3"
  }
 },
 "nbformat": 4,
 "nbformat_minor": 2
}
