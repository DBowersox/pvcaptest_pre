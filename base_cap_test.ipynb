{
 "cells": [
  {
   "cell_type": "markdown",
   "metadata": {},
   "source": [
    "# Table of Contents\n",
    " <p><div class=\"lev1 toc-item\"><a href=\"#Import-Statements\" data-toc-modified-id=\"Import-Statements-1\"><span class=\"toc-item-num\">1&nbsp;&nbsp;</span>Import Statements</a></div><div class=\"lev1 toc-item\"><a href=\"#User-Inputs\" data-toc-modified-id=\"User-Inputs-2\"><span class=\"toc-item-num\">2&nbsp;&nbsp;</span>User Inputs</a></div><div class=\"lev1 toc-item\"><a href=\"#Import,-Clean-&amp;-Filter-Measured-Capacity-Test-Raw-Data\" data-toc-modified-id=\"Import,-Clean-&amp;-Filter-Measured-Capacity-Test-Raw-Data-3\"><span class=\"toc-item-num\">3&nbsp;&nbsp;</span>Import, Clean &amp; Filter Measured Capacity Test Raw Data</a></div><div class=\"lev2 toc-item\"><a href=\"#Import-raw-data\" data-toc-modified-id=\"Import-raw-data-31\"><span class=\"toc-item-num\">3.1&nbsp;&nbsp;</span>Import raw data</a></div><div class=\"lev2 toc-item\"><a href=\"#Visualize-Raw-Data\" data-toc-modified-id=\"Visualize-Raw-Data-32\"><span class=\"toc-item-num\">3.2&nbsp;&nbsp;</span>Visualize Raw Data</a></div><div class=\"lev2 toc-item\"><a href=\"#Clean-and-prepare-raw-SCADA-data\" data-toc-modified-id=\"Clean-and-prepare-raw-SCADA-data-33\"><span class=\"toc-item-num\">3.3&nbsp;&nbsp;</span>Clean and prepare raw SCADA data</a></div><div class=\"lev3 toc-item\"><a href=\"#Calculating-the-PF-for-skid-19-inverters-from-the-reactive-power-and-real-power\" data-toc-modified-id=\"Calculating-the-PF-for-skid-19-inverters-from-the-reactive-power-and-real-power-331\"><span class=\"toc-item-num\">3.3.1&nbsp;&nbsp;</span>Calculating the PF for skid 19 inverters from the reactive power and real power</a></div><div class=\"lev2 toc-item\"><a href=\"#Filter-raw-data-following-contract-requirements\" data-toc-modified-id=\"Filter-raw-data-following-contract-requirements-34\"><span class=\"toc-item-num\">3.4&nbsp;&nbsp;</span>Filter raw data following contract requirements</a></div><div class=\"lev3 toc-item\"><a href=\"#Filter-for-irradiance-greater-than-200-W/m^2-and-then-count-irradiance-values-greater-than-500\" data-toc-modified-id=\"Filter-for-irradiance-greater-than-200-W/m^2-and-then-count-irradiance-values-greater-than-500-341\"><span class=\"toc-item-num\">3.4.1&nbsp;&nbsp;</span>Filter for irradiance greater than 200 W/m^2 and then count irradiance values greater than 500</a></div><div class=\"lev3 toc-item\"><a href=\"#Count-of-timestamps-with-irradiance-greater-than-500-W/m^2\" data-toc-modified-id=\"Count-of-timestamps-with-irradiance-greater-than-500-W/m^2-342\"><span class=\"toc-item-num\">3.4.2&nbsp;&nbsp;</span>Count of timestamps with irradiance greater than 500 W/m^2</a></div><div class=\"lev3 toc-item\"><a href=\"#Filter-for-PF\" data-toc-modified-id=\"Filter-for-PF-343\"><span class=\"toc-item-num\">3.4.3&nbsp;&nbsp;</span>Filter for PF</a></div><div class=\"lev3 toc-item\"><a href=\"#Filter-on-inverter-operating-state\" data-toc-modified-id=\"Filter-on-inverter-operating-state-344\"><span class=\"toc-item-num\">3.4.4&nbsp;&nbsp;</span>Filter on inverter operating state</a></div><div class=\"lev3 toc-item\"><a href=\"#Filter-for-clipping\" data-toc-modified-id=\"Filter-for-clipping-345\"><span class=\"toc-item-num\">3.4.5&nbsp;&nbsp;</span>Filter for clipping</a></div><div class=\"lev3 toc-item\"><a href=\"#Summary-statistics-of-actual-test-data-set\" data-toc-modified-id=\"Summary-statistics-of-actual-test-data-set-346\"><span class=\"toc-item-num\">3.4.6&nbsp;&nbsp;</span>Summary statistics of actual test data set</a></div><div class=\"lev2 toc-item\"><a href=\"#Calculation-of-Reporting-Conditions-(RCs)\" data-toc-modified-id=\"Calculation-of-Reporting-Conditions-(RCs)-35\"><span class=\"toc-item-num\">3.5&nbsp;&nbsp;</span>Calculation of Reporting Conditions (RCs)</a></div><div class=\"lev1 toc-item\"><a href=\"#Analysis-of-PVsyst-Data-to-determine-Modeled-Test-Output\" data-toc-modified-id=\"Analysis-of-PVsyst-Data-to-determine-Modeled-Test-Output-4\"><span class=\"toc-item-num\">4&nbsp;&nbsp;</span>Analysis of PVsyst Data to determine Modeled Test Output</a></div><div class=\"lev2 toc-item\"><a href=\"#Importing-the-raw-data-from-PVsyst\" data-toc-modified-id=\"Importing-the-raw-data-from-PVsyst-41\"><span class=\"toc-item-num\">4.1&nbsp;&nbsp;</span>Importing the raw data from PVsyst</a></div><div class=\"lev2 toc-item\"><a href=\"#Apply-post-PVsyst-losses-to-inverter-production\" data-toc-modified-id=\"Apply-post-PVsyst-losses-to-inverter-production-42\"><span class=\"toc-item-num\">4.2&nbsp;&nbsp;</span>Apply post PVsyst losses to inverter production</a></div><div class=\"lev2 toc-item\"><a href=\"#Exhibit-G-Filtering\" data-toc-modified-id=\"Exhibit-G-Filtering-43\"><span class=\"toc-item-num\">4.3&nbsp;&nbsp;</span>Exhibit G Filtering</a></div><div class=\"lev2 toc-item\"><a href=\"#ASTM-9.1.2---Visual-Inspection-for-Outliers\" data-toc-modified-id=\"ASTM-9.1.2---Visual-Inspection-for-Outliers-44\"><span class=\"toc-item-num\">4.4&nbsp;&nbsp;</span>ASTM 9.1.2 - Visual Inspection for Outliers</a></div><div class=\"lev2 toc-item\"><a href=\"#ASTM-9.1.3---Preliminary-Regression\" data-toc-modified-id=\"ASTM-9.1.3---Preliminary-Regression-45\"><span class=\"toc-item-num\">4.5&nbsp;&nbsp;</span>ASTM 9.1.3 - Preliminary Regression</a></div><div class=\"lev2 toc-item\"><a href=\"#ASTM-9.1.6---Irradiance-Filter\" data-toc-modified-id=\"ASTM-9.1.6---Irradiance-Filter-46\"><span class=\"toc-item-num\">4.6&nbsp;&nbsp;</span>ASTM 9.1.6 - Irradiance Filter</a></div><div class=\"lev2 toc-item\"><a href=\"#Modeled-Test-Output\" data-toc-modified-id=\"Modeled-Test-Output-47\"><span class=\"toc-item-num\">4.7&nbsp;&nbsp;</span>Modeled Test Output</a></div><div class=\"lev1 toc-item\"><a href=\"#Anlaysis-of-Actual-Test-Dataset-to-Determine-Actual-Test-Output\" data-toc-modified-id=\"Anlaysis-of-Actual-Test-Dataset-to-Determine-Actual-Test-Output-5\"><span class=\"toc-item-num\">5&nbsp;&nbsp;</span>Anlaysis of Actual Test Dataset to Determine Actual Test Output</a></div><div class=\"lev2 toc-item\"><a href=\"#ASTM-9.1.2---Visual-Inspection-for-Outliers\" data-toc-modified-id=\"ASTM-9.1.2---Visual-Inspection-for-Outliers-51\"><span class=\"toc-item-num\">5.1&nbsp;&nbsp;</span>ASTM 9.1.2 - Visual Inspection for Outliers</a></div><div class=\"lev2 toc-item\"><a href=\"#ASTM-9.1.3---Preliminary-Regressions\" data-toc-modified-id=\"ASTM-9.1.3---Preliminary-Regressions-52\"><span class=\"toc-item-num\">5.2&nbsp;&nbsp;</span>ASTM 9.1.3 - Preliminary Regressions</a></div><div class=\"lev2 toc-item\"><a href=\"#ASTM-9.1.4---Missing-Data\" data-toc-modified-id=\"ASTM-9.1.4---Missing-Data-53\"><span class=\"toc-item-num\">5.3&nbsp;&nbsp;</span>ASTM 9.1.4 - Missing Data</a></div><div class=\"lev2 toc-item\"><a href=\"#ASTM-9.1.5---DAS-Equipment-Malfunction\" data-toc-modified-id=\"ASTM-9.1.5---DAS-Equipment-Malfunction-54\"><span class=\"toc-item-num\">5.4&nbsp;&nbsp;</span>ASTM 9.1.5 - DAS Equipment Malfunction\\</a></div><div class=\"lev2 toc-item\"><a href=\"#ASTM-9.1.6---Irradiance-Filter\" data-toc-modified-id=\"ASTM-9.1.6---Irradiance-Filter-55\"><span class=\"toc-item-num\">5.5&nbsp;&nbsp;</span>ASTM 9.1.6 - Irradiance Filter</a></div><div class=\"lev2 toc-item\"><a href=\"#Actual-Test-Output\" data-toc-modified-id=\"Actual-Test-Output-56\"><span class=\"toc-item-num\">5.6&nbsp;&nbsp;</span>Actual Test Output</a></div><div class=\"lev1 toc-item\"><a href=\"#Summary\" data-toc-modified-id=\"Summary-6\"><span class=\"toc-item-num\">6&nbsp;&nbsp;</span>Summary</a></div>"
   ]
  },
  {
   "cell_type": "markdown",
   "metadata": {},
   "source": [
    "# Import Statements\n",
    "Run from the py352 conda environment. Other environments will result in errors."
   ]
  },
  {
   "cell_type": "code",
   "execution_count": null,
   "metadata": {},
   "outputs": [],
   "source": [
    "%matplotlib inline\n",
    "\n",
    "import numpy as np\n",
    "import pandas as pd\n",
    "import os.path\n",
    "import statsmodels.formula.api as smf\n",
    "\n",
    "from bokeh.charts import Scatter, show, output_notebook\n",
    "\n",
    "from sklearn.covariance import EllipticEnvelope\n",
    "from sklearn.svm import OneClassSVM\n",
    "\n",
    "import matplotlib.pyplot as plt\n",
    "from matplotlib.font_manager import FontProperties\n",
    "plt.style.use('ggplot')"
   ]
  },
  {
   "cell_type": "code",
   "execution_count": null,
   "metadata": {},
   "outputs": [],
   "source": [
    "#pd.show_versions(as_json=False)"
   ]
  },
  {
   "cell_type": "markdown",
   "metadata": {},
   "source": [
    "# User Inputs"
   ]
  },
  {
   "cell_type": "code",
   "execution_count": null,
   "metadata": {},
   "outputs": [],
   "source": [
    "#CLEANING AND FILTERING RAW DATA\n",
    "#2.4.3 filter on PF number of significant digits 0.999\n",
    "PF_Filter = 0.999\n",
    "#2.4.5\n",
    "clipping_irr = 820\n",
    "\n",
    "#SECTION 3 PVSYST IMPORT\n",
    "#3.2 post PVsyst losses\n",
    "xfmr_powerLoop_loss = 0.005\n",
    "xfmr_stepUp_loss = 0.01\n",
    "annual_degradation = 0.0025\n",
    "\n",
    "#First used in PVsyst irradiance filter; defined for pvsyst and actual test data filtering here\n",
    "irr_range = 0.3"
   ]
  },
  {
   "cell_type": "markdown",
   "metadata": {},
   "source": [
    "# Import, Clean & Filter Measured Capacity Test Raw Data"
   ]
  },
  {
   "cell_type": "markdown",
   "metadata": {},
   "source": [
    "The raw data from the SCADA system is imported from csv, cleanead and organized, and then filtered to obtain the actual test dataset.  Filters are applied following contract requirements."
   ]
  },
  {
   "cell_type": "code",
   "execution_count": null,
   "metadata": {},
   "outputs": [],
   "source": [
    "def load_pi_data(path, filename):\n",
    "    dirName = os.path.normpath(path + filename)\n",
    "    all_sensors = pd.read_csv(dirName, encoding=\"UTF-8\", header=[0,1], index_col=0, \n",
    "                              parse_dates=True, skip_blank_lines=True, low_memory=False)\n",
    "    all_sensors = all_sensors.apply(pd.to_numeric, errors='coerce')\n",
    "    # drop rows w/ na or empty values\n",
    "    all_sensors.dropna(how='all', inplace=True)\n",
    "    # drop columns with all values are na or empty\n",
    "    all_sensors.dropna(axis=1, how='all', inplace=True)\n",
    "    # drop the units portion of the column names\n",
    "    all_sensors.columns = all_sensors.columns.droplevel(1)\n",
    "    # rename columns w/ shorter names\n",
    "    n_Col_Names1 = ['MET1_POA-Ref Cell','MET2_POA-Ref Cell','MET1_Temp-Amb','MET2_Temp-Amb',\n",
    "                    'MET1_Wind speed','MET2_Wind speed','MET1_Temp-Mod3','MET2_Temp-Mod3',\n",
    "                    'MET1_Temp-Mod4','MET2_Temp-Mod4','MET1_GHI-Pyran','MET2_GHI-Pyran',\n",
    "                    'MET1_POA-Pyran','MET2_POA-Pyran','Meter1_Real_Power_AC','INV001A_PF',\n",
    "                    'INV001B_PF','INV002A_PF','INV002B_PF','INV003A_PF','INV003B_PF','INV004A_PF',\n",
    "                    'INV004B_PF','INV005A_PF','INV005B_PF','INV006A_PF','INV006B_PF','INV007A_PF',\n",
    "                    'INV007B_PF','INV008A_PF','INV008B_PF','INV009A_PF','INV009B_PF','INV010A_PF',\n",
    "                    'INV010B_PF','INV011A_PF','INV011B_PF','INV012A_PF','INV012B_PF','INV013A_PF',\n",
    "                    'INV013B_PF','INV014A_PF','INV014B_PF','INV015A_PF','INV015B_PF','INV016A_PF',\n",
    "                    'INV016B_PF','INV017A_PF','INV017B_PF','INV018A_PF','INV018B_PF','INV019A_PF',\n",
    "                    'INV019B_PF','INV019C_PF','INV020A_PF','INV020B_PF','INV001A_OpState',\n",
    "                    'INV001B_OpState','INV002A_OpState','INV002B_OpState','INV003A_OpState',\n",
    "                    'INV003B_OpState','INV004A_OpState','INV004B_OpState','INV005A_OpState',\n",
    "                    'INV005B_OpState','INV006A_OpState','INV006B_OpState','INV007A_OpState',\n",
    "                    'INV007B_OpState','INV008A_OpState','INV008B_OpState','INV009A_OpState',\n",
    "                    'INV009B_OpState','INV010A_OpState','INV010B_OpState','INV011A_OpState',\n",
    "                    'INV011B_OpState','INV012A_OpState','INV012B_OpState','INV013A_OpState',\n",
    "                    'INV013B_OpState','INV014A_OpState','INV014B_OpState','INV015A_OpState',\n",
    "                    'INV015B_OpState','INV016A_OpState','INV016B_OpState','INV017A_OpState',\n",
    "                    'INV017B_OpState','INV018A_OpState','INV018B_OpState','INV019A_OpState',\n",
    "                    'INV019B_OpState','INV019C_OpState','INV020A_OpState','INV020B_OpState']\n",
    "    n_Col_Names2 = all_sensors.columns[97:140].str.slice(start=-21).str.replace('Real Power-AC', 'kW').tolist()\n",
    "    n_Col_Names1.extend(n_Col_Names2)\n",
    "    all_sensors.columns = n_Col_Names1\n",
    "    #all_sensors.index = all_sensors.index.to_datetime()\n",
    "    return(all_sensors)"
   ]
  },
  {
   "cell_type": "markdown",
   "metadata": {},
   "source": [
    "## Import raw data"
   ]
  },
  {
   "cell_type": "code",
   "execution_count": null,
   "metadata": {},
   "outputs": [],
   "source": [
    "path = './'\n",
    "filenames = [\"Capacity test Raw data- 2017-03-25_7 PM.csv\",\n",
    "             \"Capacity test Raw data- 2017-03-26_7 PM.csv\",\n",
    "             \"Capacity test Raw data- 2017-03-27_7 PM.csv\",\n",
    "             \"Capacity test Raw data- 2017-03-28_7 PM.csv\"]\n",
    "             #\"Capacity test Raw data- 2017-03-29_7 PM.csv\"]"
   ]
  },
  {
   "cell_type": "code",
   "execution_count": null,
   "metadata": {},
   "outputs": [],
   "source": [
    "all_sensors = pd.DataFrame()\n",
    "for filename in filenames:\n",
    "    print(\"Read: \" + filename)\n",
    "    nextData = load_pi_data(path, filename)\n",
    "    all_sensors = pd.concat([all_sensors, nextData], axis=0)"
   ]
  },
  {
   "cell_type": "code",
   "execution_count": null,
   "metadata": {},
   "outputs": [],
   "source": [
    "all_sensors.head(2)"
   ]
  },
  {
   "cell_type": "code",
   "execution_count": null,
   "metadata": {},
   "outputs": [],
   "source": [
    "all_sensors[['MET1_Temp-Amb','MET1_Temp-Amb']].plot(kind='box')"
   ]
  },
  {
   "cell_type": "code",
   "execution_count": null,
   "metadata": {},
   "outputs": [],
   "source": [
    "all_sensors.iloc[:,14:18].describe()"
   ]
  },
  {
   "cell_type": "code",
   "execution_count": null,
   "metadata": {},
   "outputs": [],
   "source": [
    "points_imported = all_sensors.shape[0]"
   ]
  },
  {
   "cell_type": "code",
   "execution_count": null,
   "metadata": {},
   "outputs": [],
   "source": [
    "#all_sensors.to_csv('.\\CapTest_rawData.csv')"
   ]
  },
  {
   "cell_type": "markdown",
   "metadata": {},
   "source": [
    "## Visualize Raw Data"
   ]
  },
  {
   "cell_type": "code",
   "execution_count": null,
   "metadata": {},
   "outputs": [],
   "source": [
    "all_sensors.ix[:,['Meter1_Real_Power_AC']].plot().legend(loc='center left', bbox_to_anchor=(1,0.5))"
   ]
  },
  {
   "cell_type": "code",
   "execution_count": null,
   "metadata": {},
   "outputs": [],
   "source": [
    "all_sensors.ix[:,['MET1_POA-Ref Cell','MET2_POA-Ref Cell']].plot().legend(loc='center left', bbox_to_anchor=(1,0.5))"
   ]
  },
  {
   "cell_type": "markdown",
   "metadata": {},
   "source": [
    "## Clean and prepare raw SCADA data"
   ]
  },
  {
   "cell_type": "code",
   "execution_count": null,
   "metadata": {},
   "outputs": [],
   "source": [
    "primary_sensors = all_sensors.drop(['MET1_Temp-Mod3','MET2_Temp-Mod3','MET1_Temp-Mod4','MET2_Temp-Mod4','MET1_GHI-Pyran','MET2_GHI-Pyran','MET1_POA-Pyran','MET2_POA-Pyran'], axis=1)\n",
    "primary_sensors.count()[0]"
   ]
  },
  {
   "cell_type": "code",
   "execution_count": null,
   "metadata": {},
   "outputs": [],
   "source": [
    "# Remove any timestamps for inverters on skid 19, that have real power below zero to prepare for PF calcuation for these inverters\n",
    "primary_sensors = primary_sensors[(primary_sensors.ix[:,['INV019A_kW','INV019B_kW','INV019C_kW']] > 0).all(axis=1)]\n",
    "points_pf_drop = primary_sensors.count()[0]"
   ]
  },
  {
   "cell_type": "markdown",
   "metadata": {},
   "source": [
    "### Calculating the PF for skid 19 inverters from the reactive power and real power"
   ]
  },
  {
   "cell_type": "code",
   "execution_count": null,
   "metadata": {},
   "outputs": [],
   "source": [
    "primary_sensors['INV019A_PF'] = np.cos(np.arctan(primary_sensors['INV019A_PF'].divide(primary_sensors['INV019A_kW'])))\n",
    "primary_sensors['INV019B_PF'] = np.cos(np.arctan(primary_sensors['INV019B_PF'].divide(primary_sensors['INV019B_kW'])))\n",
    "primary_sensors['INV019C_PF'] = np.cos(np.arctan(primary_sensors['INV019C_PF'].divide(primary_sensors['INV019C_kW'])))"
   ]
  },
  {
   "cell_type": "code",
   "execution_count": null,
   "metadata": {},
   "outputs": [],
   "source": [
    "primary_sensors.ix[:,'INV019A_PF':'INV019C_PF'].describe()"
   ]
  },
  {
   "cell_type": "code",
   "execution_count": null,
   "metadata": {},
   "outputs": [],
   "source": [
    "#changed this to use MET 1 data and drop MET2\n",
    "#MET2 has been giving inconsitent data readings\n",
    "\n",
    "#Means of sensor readings for different MET stations should be used typically.\n",
    "#primary_sensors['GlobInc'] = primary_sensors[['MET1_POA-Ref Cell','MET2_POA-Ref Cell']].mean(axis=1)\n",
    "#primary_sensors['TAmb'] = primary_sensors[['MET1_Temp-Amb','MET2_Temp-Amb']].mean(axis=1)\n",
    "#primary_sensors['wSpeed'] = primary_sensors[['MET1_Wind speed','MET2_Wind speed']].mean(axis=1)\n",
    "\n",
    "primary_sensors['GlobInc'] = primary_sensors['MET1_POA-Ref Cell']\n",
    "primary_sensors['TAmb'] = primary_sensors['MET1_Temp-Amb']\n",
    "primary_sensors['WindVel'] = primary_sensors['MET1_Wind speed']\n",
    "actual_test_data = primary_sensors.drop(['MET1_POA-Ref Cell','MET2_POA-Ref Cell','MET1_Temp-Amb','MET2_Temp-Amb',\n",
    "                                         'MET1_Wind speed','MET2_Wind speed'], axis=1)\n",
    "actual_test_data = actual_test_data.ix[:,['GlobInc','TAmb','WindVel','Meter1_Real_Power_AC','INV001A_PF','INV001B_PF',\n",
    "                                          'INV002A_PF','INV002B_PF','INV003A_PF','INV003B_PF','INV004A_PF','INV004B_PF',\n",
    "                                          'INV005A_PF','INV005B_PF','INV006A_PF','INV006B_PF','INV007A_PF','INV007B_PF',\n",
    "                                          'INV008A_PF','INV008B_PF','INV009A_PF','INV009B_PF','INV010A_PF','INV010B_PF',\n",
    "                                          'INV011A_PF','INV011B_PF','INV012A_PF','INV012B_PF','INV013A_PF','INV013B_PF',\n",
    "                                          'INV014A_PF','INV014B_PF','INV015A_PF','INV015B_PF','INV016A_PF','INV016B_PF',\n",
    "                                          'INV017A_PF','INV017B_PF','INV018A_PF','INV018B_PF','INV020A_PF','INV020B_PF',\n",
    "                                          'INV019A_PF','INV019B_PF','INV019C_PF','INV001A_OpState','INV001B_OpState',\n",
    "                                          'INV002A_OpState','INV002B_OpState','INV003A_OpState','INV003B_OpState',\n",
    "                                          'INV004A_OpState','INV004B_OpState','INV005A_OpState','INV005B_OpState',\n",
    "                                          'INV006A_OpState','INV006B_OpState','INV007A_OpState','INV007B_OpState',\n",
    "                                          'INV008A_OpState','INV008B_OpState','INV009A_OpState','INV009B_OpState',\n",
    "                                          'INV010A_OpState','INV010B_OpState','INV011A_OpState','INV011B_OpState',\n",
    "                                          'INV012A_OpState','INV012B_OpState','INV013A_OpState','INV013B_OpState',\n",
    "                                          'INV014A_OpState','INV014B_OpState','INV015A_OpState','INV015B_OpState',\n",
    "                                          'INV016A_OpState','INV016B_OpState','INV017A_OpState','INV017B_OpState',\n",
    "                                          'INV018A_OpState','INV018B_OpState','INV020A_OpState','INV020B_OpState',\n",
    "                                          'INV019A_OpState','INV019B_OpState','INV019C_OpState']]\n",
    "#actual_test_data = actual_test_data.resample('1min', label='right').mean()\n",
    "#drop all data prior to my email at 10:56AM PT, stating beginning of capacity test\n",
    "actual_test_data = actual_test_data.ix[np.datetime64('2017-03-25T10:56:00'):]\n",
    "points_actual_test_data = actual_test_data.count()[0]"
   ]
  },
  {
   "cell_type": "code",
   "execution_count": null,
   "metadata": {},
   "outputs": [],
   "source": [
    "#actual_test_data.to_csv('.\\\\actual_test_data.csv')"
   ]
  },
  {
   "cell_type": "markdown",
   "metadata": {},
   "source": [
    "## Filter raw data following contract requirements"
   ]
  },
  {
   "cell_type": "markdown",
   "metadata": {},
   "source": [
    "### Filter for irradiance greater than 200 W/m^2 and then count irradiance values greater than 500"
   ]
  },
  {
   "cell_type": "code",
   "execution_count": null,
   "metadata": {},
   "outputs": [],
   "source": [
    "actual_test_data = actual_test_data[actual_test_data['GlobInc'] > 200]\n",
    "points_above200 = actual_test_data['GlobInc'].count()\n",
    "points_above200"
   ]
  },
  {
   "cell_type": "markdown",
   "metadata": {},
   "source": [
    "### Count of timestamps with irradiance greater than 500 W/m^2"
   ]
  },
  {
   "cell_type": "code",
   "execution_count": null,
   "metadata": {},
   "outputs": [],
   "source": [
    "points_above500 = actual_test_data[actual_test_data['GlobInc'] > 500]['GlobInc'].count()\n",
    "points_above500"
   ]
  },
  {
   "cell_type": "markdown",
   "metadata": {},
   "source": [
    "### Filter for PF"
   ]
  },
  {
   "cell_type": "code",
   "execution_count": null,
   "metadata": {},
   "outputs": [],
   "source": [
    "PF_Filter"
   ]
  },
  {
   "cell_type": "code",
   "execution_count": null,
   "metadata": {},
   "outputs": [],
   "source": [
    "#applies logical >= 0.999 to each value of the PF dataframe subset,\n",
    "#then checks if all values in each row are true,\n",
    "#then filters on the resulting boolean series\n",
    "actual_test_data_F1 = actual_test_data[(actual_test_data.ix[:,4:45] >= PF_Filter).all(axis=1)]"
   ]
  },
  {
   "cell_type": "code",
   "execution_count": null,
   "metadata": {},
   "outputs": [],
   "source": [
    "points_PF = actual_test_data_F1['GlobInc'].count()\n",
    "points_PF"
   ]
  },
  {
   "cell_type": "markdown",
   "metadata": {},
   "source": [
    "### Filter on inverter operating state"
   ]
  },
  {
   "cell_type": "code",
   "execution_count": null,
   "metadata": {},
   "outputs": [],
   "source": [
    "#NOTE: actual_test_data_F2 was used when there were seperate PF filter for the skid 19 inverters it is now skipped\n",
    "\n",
    "#filter out all data when any GT500 inverters that are not operating normally, mppt\n",
    "actual_test_data_F3 = actual_test_data_F1[(actual_test_data_F1.ix[:,45:83] == 4).all(axis=1)]\n",
    "#filter out all data when any XC-NA inverters are not operating normally, for 3 invs on skid 19\n",
    "actual_test_data_F4 = actual_test_data_F3[(actual_test_data_F3.ix[:,83:86] == 2).all(axis=1)]\n",
    "points_OpState = actual_test_data_F4['GlobInc'].count()"
   ]
  },
  {
   "cell_type": "markdown",
   "metadata": {},
   "source": [
    "### Filter for clipping"
   ]
  },
  {
   "cell_type": "code",
   "execution_count": null,
   "metadata": {},
   "outputs": [],
   "source": [
    "actual_test_data_F4.plot(kind='scatter', x='GlobInc', y='Meter1_Real_Power_AC',\n",
    "                         title='Actual Test Data Set', ylim=(0,22000), xlim=(0,1200), alpha=0.2)"
   ]
  },
  {
   "cell_type": "code",
   "execution_count": null,
   "metadata": {},
   "outputs": [],
   "source": [
    "clipping_irr"
   ]
  },
  {
   "cell_type": "code",
   "execution_count": null,
   "metadata": {},
   "outputs": [],
   "source": [
    "np.sum(actual_test_data_F4['GlobInc'] > clipping_irr)"
   ]
  },
  {
   "cell_type": "code",
   "execution_count": null,
   "metadata": {},
   "outputs": [],
   "source": [
    "actual_test_data_F5 = actual_test_data_F4[actual_test_data_F4['GlobInc'] < clipping_irr]\n",
    "points_clipping_irr = actual_test_data_F5['GlobInc'].count()"
   ]
  },
  {
   "cell_type": "code",
   "execution_count": null,
   "metadata": {},
   "outputs": [],
   "source": [
    "actual_test_data_F5.plot(kind='scatter', x='GlobInc', y='Meter1_Real_Power_AC', \n",
    "                         title='Actual Test Data Set', ylim=(0,22000), xlim=(0,1000), alpha=0.3)"
   ]
  },
  {
   "cell_type": "code",
   "execution_count": null,
   "metadata": {},
   "outputs": [],
   "source": [
    "#actual_test_data_F5.to_csv('./pvData.csv')"
   ]
  },
  {
   "cell_type": "markdown",
   "metadata": {},
   "source": [
    "### Summary statistics of actual test data set"
   ]
  },
  {
   "cell_type": "code",
   "execution_count": null,
   "metadata": {},
   "outputs": [],
   "source": [
    "actual_test_data_F5.describe()"
   ]
  },
  {
   "cell_type": "markdown",
   "metadata": {},
   "source": [
    "## Calculation of Reporting Conditions (RCs)"
   ]
  },
  {
   "cell_type": "code",
   "execution_count": null,
   "metadata": {},
   "outputs": [],
   "source": [
    "if actual_test_data_F5['GlobInc'].mean() >= 500:\n",
    "    RCs = {'GlobInc': actual_test_data_F5['GlobInc'].mean(), \n",
    "           'TAmb': actual_test_data_F5['TAmb'].mean(),\n",
    "           'WindVel': actual_test_data_F5['WindVel'].mean()}\n",
    "    print(RCs)\n",
    "else:\n",
    "    print('mean POA irradiance for test data is less than 500W/m^2 fefer to ASTM E2848 section 8.3')"
   ]
  },
  {
   "cell_type": "markdown",
   "metadata": {},
   "source": [
    "# Analysis of PVsyst Data to determine Modeled Test Output"
   ]
  },
  {
   "cell_type": "markdown",
   "metadata": {},
   "source": [
    "## Importing the raw data from PVsyst\n",
    "Importing the raw PVsyst output data into a pandas dataframe, dropping the units for convience after displaying. Index is changed to a datetime index and the dates are added as a string in a new column for use in the tooltip data of the visual inspetion graphs."
   ]
  },
  {
   "cell_type": "code",
   "execution_count": null,
   "metadata": {},
   "outputs": [],
   "source": [
    "#function to import PVsyst data\n",
    "def load_PVsyst(path, filename):\n",
    "    dirName = os.path.normpath(path + filename)\n",
    "    pvRaw = pd.read_csv(dirName, skiprows=10, header=[0, 1], parse_dates=[0], infer_datetime_format=True)\n",
    "    pvRaw.columns = pvRaw.columns.droplevel(1)\n",
    "    pvRaw['dateString'] = pvRaw['date'].apply(lambda x: x.strftime('%m/%d/%Y %H'))\n",
    "    pvRaw.set_index('date', drop=True, inplace=True)\n",
    "    pvRaw = pvRaw.rename(columns={\"T Amb\": \"TAmb\"})\n",
    "    return(pvRaw)"
   ]
  },
  {
   "cell_type": "code",
   "execution_count": null,
   "metadata": {},
   "outputs": [],
   "source": [
    "path = \"./\"\n",
    "\n",
    "filename = \"PVsyst_II_HourlyRes_rev18-VCE.csv\""
   ]
  },
  {
   "cell_type": "code",
   "execution_count": null,
   "metadata": {},
   "outputs": [],
   "source": [
    "pvRaw = load_PVsyst(path, filename)\n",
    "pvRaw.head()"
   ]
  },
  {
   "cell_type": "code",
   "execution_count": null,
   "metadata": {},
   "outputs": [],
   "source": [
    "pvRaw.describe()"
   ]
  },
  {
   "cell_type": "markdown",
   "metadata": {},
   "source": [
    "Filter out irradiance values < 0 and recompute the summary statistics"
   ]
  },
  {
   "cell_type": "code",
   "execution_count": null,
   "metadata": {},
   "outputs": [],
   "source": [
    "points_pvsyst_all = pvRaw['GlobInc'].count()\n",
    "pvDay = pvRaw.loc[pvRaw['GlobInc'] > 0]\n",
    "points_pvsyst_day = pvDay['GlobInc'].count()"
   ]
  },
  {
   "cell_type": "code",
   "execution_count": null,
   "metadata": {},
   "outputs": [],
   "source": [
    "pvDay.describe()"
   ]
  },
  {
   "cell_type": "markdown",
   "metadata": {},
   "source": [
    "## Apply post PVsyst losses to inverter production  \n",
    "Tranformer power loop loss: 0.5%  \n",
    "MV step-up transformer efficiency loss: 1.0%  \n",
    "Annual degradation (year 1 only) taken post PVsyst: 0.25%  "
   ]
  },
  {
   "cell_type": "code",
   "execution_count": null,
   "metadata": {},
   "outputs": [],
   "source": [
    "xfmr_powerLoop_loss"
   ]
  },
  {
   "cell_type": "code",
   "execution_count": null,
   "metadata": {},
   "outputs": [],
   "source": [
    "xfmr_stepUp_loss"
   ]
  },
  {
   "cell_type": "code",
   "execution_count": null,
   "metadata": {},
   "outputs": [],
   "source": [
    "annual_degradation"
   ]
  },
  {
   "cell_type": "code",
   "execution_count": null,
   "metadata": {},
   "outputs": [],
   "source": [
    "pvRaw['EOutInv'] = pvRaw['EOutInv'] * (1-(xfmr_powerLoop_loss + xfmr_stepUp_loss + annual_degradation))\n",
    "pvRaw['EOutInv'].sum()"
   ]
  },
  {
   "cell_type": "markdown",
   "metadata": {},
   "source": [
    "## Exhibit G Filtering\n",
    "Values below 200 W/m^2 and during times of shading or inverter operation off mppt are removed."
   ]
  },
  {
   "cell_type": "code",
   "execution_count": null,
   "metadata": {},
   "outputs": [],
   "source": [
    "pvFiltered = pvRaw.loc[pvRaw['GlobInc']>=200]\n",
    "pvFiltered = pvFiltered.loc[pvFiltered['FShdBm'] == 1.0]\n",
    "pvFiltered = pvFiltered.loc[pvFiltered[['IL Pmin','IL Vmin','IL Pmax','IL Vmax']].sum(axis=1)<=0]\n",
    "points_pvsyst_Filtered = pvFiltered['GlobInc'].count()\n",
    "points_pvsyst_Filtered"
   ]
  },
  {
   "cell_type": "markdown",
   "metadata": {},
   "source": [
    "## ASTM 9.1.2 - Visual Inspection for Outliers\n",
    "\n",
    "Visual outlier detection skipped for PVsyst data."
   ]
  },
  {
   "cell_type": "markdown",
   "metadata": {},
   "source": [
    "## ASTM 9.1.3 - Preliminary Regression\n",
    "A preliminary regression of the dataset is performed to identify statistical outliers.  Averaging intervals for which the residual exceeds two standard deviations of the mean residual are removed."
   ]
  },
  {
   "cell_type": "code",
   "execution_count": null,
   "metadata": {},
   "outputs": [],
   "source": [
    "pvFiltered.head(2)"
   ]
  },
  {
   "cell_type": "code",
   "execution_count": null,
   "metadata": {},
   "outputs": [],
   "source": [
    "pvFiltered.describe()"
   ]
  },
  {
   "cell_type": "code",
   "execution_count": null,
   "metadata": {},
   "outputs": [],
   "source": [
    "mod = smf.ols(formula='EOutInv ~ GlobInc + I(GlobInc * GlobInc) + I(GlobInc * TAmb) + I(GlobInc * WindVel) - 1', data=pvFiltered)\n",
    "res = mod.fit()\n",
    "res.summary()"
   ]
  },
  {
   "cell_type": "markdown",
   "metadata": {},
   "source": [
    "Calculating the standard error:"
   ]
  },
  {
   "cell_type": "code",
   "execution_count": null,
   "metadata": {},
   "outputs": [],
   "source": [
    "#np.sqrt(np.sum(res.resid**2)/(res.resid.count()-4))  # gives the same value as below\n",
    "np.sqrt(res.scale)"
   ]
  },
  {
   "cell_type": "markdown",
   "metadata": {},
   "source": [
    "Calculating the number of values that will be removed"
   ]
  },
  {
   "cell_type": "code",
   "execution_count": null,
   "metadata": {},
   "outputs": [],
   "source": [
    "np.sum(np.abs(res.resid) > 2*np.sqrt(res.scale))"
   ]
  },
  {
   "cell_type": "code",
   "execution_count": null,
   "metadata": {},
   "outputs": [],
   "source": [
    "pvFiltered = pvFiltered.loc[np.abs(res.resid) < 2*np.sqrt(res.scale)]\n",
    "points_pvsyst_prelimRegression = pvFiltered['GlobInc'].count()"
   ]
  },
  {
   "cell_type": "code",
   "execution_count": null,
   "metadata": {},
   "outputs": [],
   "source": [
    "pvFiltered_Mar = pvFiltered['1990-03']"
   ]
  },
  {
   "cell_type": "code",
   "execution_count": null,
   "metadata": {},
   "outputs": [],
   "source": [
    "pvFiltered_Mar['GlobInc'].count()"
   ]
  },
  {
   "cell_type": "markdown",
   "metadata": {},
   "source": [
    "## ASTM 9.1.6 - Irradiance Filter  \n",
    "Typical is +/- 20% (input as 0.2)  \n",
    "Up to +/- 50% is acceptable for periods with stable sky conditions"
   ]
  },
  {
   "cell_type": "code",
   "execution_count": null,
   "metadata": {},
   "outputs": [],
   "source": [
    "irr_range"
   ]
  },
  {
   "cell_type": "code",
   "execution_count": null,
   "metadata": {},
   "outputs": [],
   "source": [
    "RCs['GlobInc']"
   ]
  },
  {
   "cell_type": "code",
   "execution_count": null,
   "metadata": {},
   "outputs": [],
   "source": [
    "#need to double check this filtering by irradiance \n",
    "pvFiltered_Mar2 = pvFiltered_Mar[(pvFiltered_Mar['GlobInc'] < RCs['GlobInc'] * (1 + irr_range)) & (pvFiltered_Mar['GlobInc'] > RCs['GlobInc'] * (1 - irr_range))]"
   ]
  },
  {
   "cell_type": "code",
   "execution_count": null,
   "metadata": {},
   "outputs": [],
   "source": [
    "pvFiltered_Mar2.describe()"
   ]
  },
  {
   "cell_type": "markdown",
   "metadata": {},
   "source": [
    "## Modeled Test Output"
   ]
  },
  {
   "cell_type": "code",
   "execution_count": null,
   "metadata": {},
   "outputs": [],
   "source": [
    "mod_predicted = smf.ols(formula='EOutInv ~ GlobInc + I(GlobInc * GlobInc) + I(GlobInc * TAmb) + I(GlobInc * WindVel) - 1', data=pvFiltered_Mar2)\n",
    "res_predicted = mod_predicted.fit()"
   ]
  },
  {
   "cell_type": "code",
   "execution_count": null,
   "metadata": {},
   "outputs": [],
   "source": [
    "res_predicted.summary()"
   ]
  },
  {
   "cell_type": "code",
   "execution_count": null,
   "metadata": {},
   "outputs": [],
   "source": [
    "res_predicted.params"
   ]
  },
  {
   "cell_type": "code",
   "execution_count": null,
   "metadata": {},
   "outputs": [],
   "source": [
    "mod_test_output = res_predicted.predict(RCs)"
   ]
  },
  {
   "cell_type": "code",
   "execution_count": null,
   "metadata": {},
   "outputs": [],
   "source": [
    "mod_test_output = mod_test_output[0]/1e6\n",
    "mod_test_output"
   ]
  },
  {
   "cell_type": "markdown",
   "metadata": {},
   "source": [
    "# Anlaysis of Actual Test Dataset to Determine Actual Test Output"
   ]
  },
  {
   "cell_type": "code",
   "execution_count": null,
   "metadata": {},
   "outputs": [],
   "source": [
    "actual_test_data_F5.head(3)"
   ]
  },
  {
   "cell_type": "markdown",
   "metadata": {},
   "source": [
    "## ASTM 9.1.2 - Visual Inspection for Outliers"
   ]
  },
  {
   "cell_type": "code",
   "execution_count": null,
   "metadata": {},
   "outputs": [],
   "source": [
    "# Add date column to dataset for visual outlier inspection\n",
    "actual_test_data_F5['dateString'] = (actual_test_data_F5.index.to_series()).apply(lambda x: x.strftime('%m/%d/%Y %H %M'))"
   ]
  },
  {
   "cell_type": "code",
   "execution_count": null,
   "metadata": {},
   "outputs": [],
   "source": [
    "tooltips=[\n",
    "    ('Irr', '@GlobInc'),\n",
    "    ('Power', '@Meter1_Real_Power_AC'),\n",
    "    ('Date', '@dateString')\n",
    "]\n",
    "\n",
    "p = Scatter(actual_test_data_F5, x='GlobInc', y='Meter1_Real_Power_AC', title=\"Power vs. Irradiance\", xlabel=\"POA Irradiance W/m^2\", ylabel=\"Power (W)\", tooltips=tooltips)\n",
    "output_notebook()\n",
    "show(p)"
   ]
  },
  {
   "cell_type": "code",
   "execution_count": null,
   "metadata": {},
   "outputs": [],
   "source": [
    "XandY = actual_test_data_F5.ix[:,[\"GlobInc\",\"Meter1_Real_Power_AC\"]]\n",
    "X1 = XandY.values\n",
    "clf_1 = EllipticEnvelope(contamination=0.04)\n",
    "clf_1.fit(X1)"
   ]
  },
  {
   "cell_type": "code",
   "execution_count": null,
   "metadata": {},
   "outputs": [],
   "source": [
    "actual_test_data_F6 = actual_test_data_F5[clf_1.predict(X1) == 1]\n",
    "points_visual_inspection = actual_test_data_F6['GlobInc'].count()"
   ]
  },
  {
   "cell_type": "code",
   "execution_count": null,
   "metadata": {},
   "outputs": [],
   "source": [
    "tooltips=[\n",
    "    ('Irr', '@GlobInc'),\n",
    "    ('Power', '@Meter1_Real_Power_AC'),\n",
    "    ('Date', '@dateString')\n",
    "]\n",
    "\n",
    "p = Scatter(actual_test_data_F6, x='GlobInc', y='Meter1_Real_Power_AC', title=\"Power vs. Irradiance\", xlabel=\"POA Irradiance W/m^2\", ylabel=\"Power (W)\", tooltips=tooltips)\n",
    "output_notebook()\n",
    "show(p)"
   ]
  },
  {
   "cell_type": "markdown",
   "metadata": {},
   "source": [
    "## ASTM 9.1.3 - Preliminary Regressions"
   ]
  },
  {
   "cell_type": "code",
   "execution_count": null,
   "metadata": {},
   "outputs": [],
   "source": [
    "actual_test_data_F6.describe()"
   ]
  },
  {
   "cell_type": "code",
   "execution_count": null,
   "metadata": {},
   "outputs": [],
   "source": [
    "mod_act_prelim = smf.ols(formula='Meter1_Real_Power_AC ~ GlobInc + I(GlobInc * GlobInc) + I(GlobInc * TAmb) + I(GlobInc * WindVel) - 1', data=actual_test_data_F6)\n",
    "res_act_prelim = mod_act_prelim.fit()\n",
    "res_act_prelim.summary()"
   ]
  },
  {
   "cell_type": "code",
   "execution_count": null,
   "metadata": {},
   "outputs": [],
   "source": [
    "res_act_prelim.params"
   ]
  },
  {
   "cell_type": "code",
   "execution_count": null,
   "metadata": {},
   "outputs": [],
   "source": [
    "np.sqrt(res_act_prelim.scale)"
   ]
  },
  {
   "cell_type": "markdown",
   "metadata": {},
   "source": [
    "Calculating the number of values that will be removed"
   ]
  },
  {
   "cell_type": "code",
   "execution_count": null,
   "metadata": {},
   "outputs": [],
   "source": [
    "np.sum(np.abs(res_act_prelim.resid) > 2*np.sqrt(res_act_prelim.scale))"
   ]
  },
  {
   "cell_type": "code",
   "execution_count": null,
   "metadata": {},
   "outputs": [],
   "source": [
    "actual_test_data_F7 = actual_test_data_F6[np.abs(res_act_prelim.resid) < 2*np.sqrt(res_act_prelim.scale)]\n",
    "points_prelim_regression = actual_test_data_F7['GlobInc'].count()"
   ]
  },
  {
   "cell_type": "markdown",
   "metadata": {},
   "source": [
    "## ASTM 9.1.4 - Missing Data"
   ]
  },
  {
   "cell_type": "code",
   "execution_count": null,
   "metadata": {},
   "outputs": [],
   "source": [
    "actual_test_data_F7.ix[:,0:4].describe()"
   ]
  },
  {
   "cell_type": "code",
   "execution_count": null,
   "metadata": {},
   "outputs": [],
   "source": [
    "actual_test_data_F7.ix[:,0:4].isnull().values.any()"
   ]
  },
  {
   "cell_type": "markdown",
   "metadata": {},
   "source": [
    "no missing values"
   ]
  },
  {
   "cell_type": "markdown",
   "metadata": {},
   "source": [
    "## ASTM 9.1.5 - DAS Equipment Malfunction\\\n",
    "No malfunctions within actual test dataset."
   ]
  },
  {
   "cell_type": "markdown",
   "metadata": {},
   "source": [
    "## ASTM 9.1.6 - Irradiance Filter\n"
   ]
  },
  {
   "cell_type": "code",
   "execution_count": null,
   "metadata": {},
   "outputs": [],
   "source": [
    "actual_test_data_F8 = actual_test_data_F7[(actual_test_data_F7['GlobInc'] < RCs['GlobInc'] * (1 + irr_range)) & (actual_test_data_F7['GlobInc'] > RCs['GlobInc'] * (1 - irr_range))]\n",
    "points_irr_filter = actual_test_data_F8['GlobInc'].count()"
   ]
  },
  {
   "cell_type": "code",
   "execution_count": null,
   "metadata": {},
   "outputs": [],
   "source": [
    "actual_test_data_F8.describe()"
   ]
  },
  {
   "cell_type": "code",
   "execution_count": null,
   "metadata": {},
   "outputs": [],
   "source": [
    "actual_test_data_F5.plot(kind='scatter', x='GlobInc', y='Meter1_Real_Power_AC', title='Actual Test Data Set', ylim=(0,20000), xlim=(0,1000))"
   ]
  },
  {
   "cell_type": "code",
   "execution_count": null,
   "metadata": {},
   "outputs": [],
   "source": [
    "actual_test_data_F8.plot(kind='scatter', x='GlobInc', y='Meter1_Real_Power_AC', title='Actual Test Data Set- Post ASTM Filtering', ylim=(0,20000), xlim=(0,1000))"
   ]
  },
  {
   "cell_type": "code",
   "execution_count": null,
   "metadata": {},
   "outputs": [],
   "source": [
    "actual_test_data_F8.ix[:,['Meter1_Real_Power_AC']].plot(style='.').legend(loc='center left', bbox_to_anchor=(1,0.5))"
   ]
  },
  {
   "cell_type": "markdown",
   "metadata": {},
   "source": [
    "## Actual Test Output"
   ]
  },
  {
   "cell_type": "code",
   "execution_count": null,
   "metadata": {},
   "outputs": [],
   "source": [
    "mod_act_final = smf.ols(formula='Meter1_Real_Power_AC ~ GlobInc + I(GlobInc * GlobInc) + I(GlobInc * TAmb) + I(GlobInc * WindVel) - 1', data=actual_test_data_F8)\n",
    "res_act_final = mod_act_final.fit()\n",
    "res_act_final.summary()"
   ]
  },
  {
   "cell_type": "code",
   "execution_count": null,
   "metadata": {},
   "outputs": [],
   "source": [
    "res_act_final.params"
   ]
  },
  {
   "cell_type": "code",
   "execution_count": null,
   "metadata": {},
   "outputs": [],
   "source": [
    "act_test_output = res_act_final.predict(RCs)\n",
    "act_test_output = act_test_output[0]/1e3\n",
    "Tested_Output_ratio = (act_test_output/mod_test_output)\n",
    "Tested_Output = Tested_Output_ratio * 21.04\n",
    "\n",
    "if Tested_Output >= (1-.03) * 21.04:\n",
    "    print(\"{:<30s}{}\".format(\"Capcity Test Result:\", \"PASS\"))\n",
    "else:\n",
    "    print(\"{:<30s}{}\".format(\"Capcity Test Result:\", \"FAIL\"))\n",
    "    \n",
    "print(\"{:<30s}{:0.3f}\".format(\"Modeled test output:\", mod_test_output) + \"\\n\" +\n",
    "      \"{:<30s}{:0.3f}\".format(\"Actual test output:\", act_test_output) + \"\\n\" +\n",
    "      \"{:<30s}{:0.3f}\".format(\"Tested output ratio:\", Tested_Output_ratio) + \"\\n\" +\n",
    "      \"{:<30s}{:0.3f}\".format(\"Tested Capacity:\", Tested_Output)\n",
    "      )"
   ]
  },
  {
   "cell_type": "markdown",
   "metadata": {},
   "source": [
    "# Summary"
   ]
  },
  {
   "cell_type": "code",
   "execution_count": null,
   "metadata": {},
   "outputs": [],
   "source": [
    "summary = pd.DataFrame(data=[points_imported,\n",
    "                             points_pf_drop,\n",
    "                             points_actual_test_data,\n",
    "                             points_above200, \n",
    "                             points_above500, \n",
    "                             points_PF, \n",
    "                             points_OpState, \n",
    "                             points_clipping_irr,\n",
    "                             points_visual_inspection,\n",
    "                             points_prelim_regression,\n",
    "                             points_irr_filter,\n",
    "                             points_pvsyst_all, \n",
    "                             points_pvsyst_day,\n",
    "                             points_pvsyst_Filtered,\n",
    "                             points_pvsyst_prelimRegression], \n",
    "                       index=pd.MultiIndex.from_tuples([('actual_Data','Points imported'),\n",
    "                                                        ('actual_Data','PF cleaning'),\n",
    "                                                        ('actual_Data','actual test data set'),\n",
    "                                                        ('actual_Data','Points Above 200'), \n",
    "                                                        ('actual_Data','Points above 500'),\n",
    "                                                        ('actual_Data','Points PF'),\n",
    "                                                        ('actual_Data','Op Points'),\n",
    "                                                        ('actual_Data','Clipping Irr'),\n",
    "                                                        ('actual_Data','visual inspection'),\n",
    "                                                        ('actual_Data','after prelim regression'),\n",
    "                                                        ('actual_Data','irr filter'),\n",
    "                                                        ('pvsyst', 'pvsyst all'),\n",
    "                                                        ('pvsyst','pvsyst day'),\n",
    "                                                        ('pvsyst','pvsyst filtered'),\n",
    "                                                        ('pvsyst','pvsyst prelim Regression')]),\n",
    "                       columns=['count'])"
   ]
  },
  {
   "cell_type": "code",
   "execution_count": null,
   "metadata": {},
   "outputs": [],
   "source": [
    "summary['diff'] = summary.groupby(level=0)['count'].diff()\n",
    "summary"
   ]
  }
 ],
 "metadata": {
  "language_info": {
   "name": "python",
   "pygments_lexer": "ipython3"
  }
 },
 "nbformat": 4,
 "nbformat_minor": 2
}
