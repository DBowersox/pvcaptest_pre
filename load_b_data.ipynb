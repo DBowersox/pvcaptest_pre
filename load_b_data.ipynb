{
 "cells": [
  {
   "cell_type": "code",
   "execution_count": null,
   "metadata": {},
   "outputs": [],
   "source": [
    "%matplotlib inline\n",
    "%load_ext autoreload\n",
    "%autoreload 2\n",
    "\n",
    "import os.path\n",
    "import numpy as np\n",
    "import pandas as pd\n",
    "import dateutil\n",
    "import datetime\n",
    "import re\n",
    "import matplotlib.pyplot as plt\n",
    "\n",
    "import load_data\n",
    "\n",
    "# pd.set_option('display.height', 1000)\n",
    "pd.set_option('display.max_rows', 500)\n",
    "pd.set_option('display.max_columns', 500)\n",
    "# pd.set_option('display.width', 1000)\n",
    "#test"
   ]
  },
  {
   "cell_type": "code",
   "execution_count": null,
   "metadata": {},
   "outputs": [],
   "source": [
    "b = 'Capacity test Raw data- 2017-03-25_7 PM.csv'\n",
    "c = 'Data_Extract_20170807-20170807_cap_test_daily_id38778c9c-115.csv'\n",
    "raw_data = load_data.load_das_data('./data/', b)\n",
    "#raw_data.columns.tolist()"
   ]
  },
  {
   "cell_type": "code",
   "execution_count": null,
   "metadata": {},
   "outputs": [],
   "source": [
    "raw_data.shape"
   ]
  },
  {
   "cell_type": "code",
   "execution_count": null,
   "metadata": {},
   "outputs": [],
   "source": [
    "col_types = raw_data.apply(load_data.series_type, args=(load_data.type_defs,)).tolist()\n",
    "sub_types = raw_data.apply(load_data.series_type, args=(load_data.sub_type_defs,), bounds_check=False).tolist()\n",
    "irr_types = raw_data.apply(load_data.series_type, args=(load_data.irr_sensors_defs,), bounds_check=False).tolist()\n",
    "\n",
    "col_indices = ['-'.join([typ, sub_typ, irr_typ]) for typ, sub_typ, irr_typ in zip(col_types, sub_types, irr_types)]\n",
    "\n",
    "raw_data_clean_headers = raw_data.copy()\n",
    "raw_data_clean_headers.columns = col_indices\n",
    "\n",
    "eq_cnts = load_data.equip_counts(raw_data_clean_headers)"
   ]
  },
  {
   "cell_type": "code",
   "execution_count": null,
   "metadata": {},
   "outputs": [],
   "source": [
    "len(raw_data_clean_headers.columns.tolist())"
   ]
  },
  {
   "cell_type": "code",
   "execution_count": null,
   "metadata": {},
   "outputs": [],
   "source": [
    "len(eq_cnts)"
   ]
  },
  {
   "cell_type": "code",
   "execution_count": null,
   "metadata": {},
   "outputs": [],
   "source": [
    "n_col_names = list(zip(col_indices, eq_cnts))\n",
    "raw_data_clean_headers.columns = pd.MultiIndex.from_tuples(n_col_names, names=['label','equip_cnt'])"
   ]
  },
  {
   "cell_type": "code",
   "execution_count": null,
   "metadata": {},
   "outputs": [],
   "source": [
    "raw_data_clean_headers.head()"
   ]
  },
  {
   "cell_type": "code",
   "execution_count": null,
   "metadata": {},
   "outputs": [],
   "source": [
    "load_data.apply_filter(raw_data_clean_headers, 'label', skip_strs=['inv']).shape"
   ]
  }
 ],
 "metadata": {
  "language_info": {
   "name": "python",
   "pygments_lexer": "ipython3"
  }
 },
 "nbformat": 4,
 "nbformat_minor": 2
}
