{
 "cells": [
  {
   "cell_type": "code",
   "execution_count": null,
   "metadata": {},
   "outputs": [],
   "source": [
    "%matplotlib inline\n",
    "%load_ext autoreload\n",
    "%autoreload 2\n",
    "\n",
    "import os\n",
    "import numpy as np\n",
    "import pandas as pd\n",
    "import dateutil\n",
    "import datetime\n",
    "import re\n",
    "import matplotlib.pyplot as plt\n",
    "import math\n",
    "\n",
    "import load_data\n",
    "\n",
    "import pecos\n",
    "\n",
    "from bokeh.io import output_notebook, show\n",
    "from bokeh.plotting import figure\n",
    "from bokeh.palettes import Category10\n",
    "from bokeh.layouts import gridplot\n",
    "from bokeh.models import Legend, HoverTool, ColumnDataSource\n",
    "output_notebook()\n",
    "\n",
    "# pd.set_option('display.height', 1000)\n",
    "pd.set_option('display.max_rows', 500)\n",
    "pd.set_option('display.max_columns', 500)\n",
    "# pd.set_option('display.width', 1000)\n",
    "#test"
   ]
  },
  {
   "cell_type": "code",
   "execution_count": null,
   "metadata": {},
   "outputs": [],
   "source": [
    "raw_data = load_data.load_data(directory='./data_b/')\n",
    "\n",
    "trans = load_data.trans_dict(raw_data)\n",
    "\n",
    "pm = pecos.monitoring.PerformanceMonitoring()\n",
    "system_name = 'test'\n",
    "pm.add_dataframe(raw_data, system_name)\n",
    "pm.add_translation_dictionary(trans, system_name)"
   ]
  },
  {
   "cell_type": "code",
   "execution_count": null,
   "metadata": {},
   "outputs": [],
   "source": [
    "raw_data.shape"
   ]
  },
  {
   "cell_type": "code",
   "execution_count": null,
   "metadata": {},
   "outputs": [],
   "source": [
    "raw_data.head(1)"
   ]
  },
  {
   "cell_type": "code",
   "execution_count": null,
   "metadata": {},
   "outputs": [],
   "source": [
    "grid = load_data.plot(pm)\n",
    "show(grid)"
   ]
  },
  {
   "cell_type": "code",
   "execution_count": null,
   "metadata": {},
   "outputs": [],
   "source": [
    "list(trans.keys())"
   ]
  },
  {
   "cell_type": "code",
   "execution_count": null,
   "metadata": {},
   "outputs": [],
   "source": [
    "raw_data.plot(kind='scatter', y='Blythe2_SUB1_MET1_POA-Reference Cell W/m2', x='Blythe2_SUB1_MET1_Temperature-Ambient �C',\n",
    "                         title='Actual Test Data Set', ylim=(0,1500), xlim=(0,50), alpha=0.2)"
   ]
  },
  {
   "cell_type": "code",
   "execution_count": null,
   "metadata": {},
   "outputs": [],
   "source": [
    "# hover = HoverTool(tooltips=[('Date', '@index')])\n",
    "\n",
    "# source = ColumnDataSource(pm.df)\n",
    "\n",
    "# #x = pm.df[pm.trans['index--']]\n",
    "# y = 'test:component Canal Solar - KZPOA - Measured Irradiance Other, avg, (W/m&#178;)'\n",
    "\n",
    "# p = figure(plot_width=700, plot_height=300, x_axis_type='datetime')\n",
    "# p.add_tools(hover)\n",
    "# line = p.line(x='test:index', y=y, source=source)\n",
    "\n",
    "# output_notebook()\n",
    "# show(p)\n",
    "\n",
    "hover = HoverTool(tooltips=[('Date', '@index1')])\n",
    "\n",
    "source = ColumnDataSource(raw_data)\n",
    "\n",
    "#x = pm.df[pm.trans['index--']]\n",
    "x = 'index'\n",
    "y = 'component Canal Solar - PVEL - Measured Irradiance Plane of Array, avg, (W/m&#178;)'\n",
    "\n",
    "p = figure(plot_width=700, plot_height=300, x_axis_type='datetime')\n",
    "p.add_tools(hover)\n",
    "line = p.line(x=x, y=y, source=source)\n",
    "\n",
    "output_notebook()\n",
    "show(p)"
   ]
  },
  {
   "cell_type": "code",
   "execution_count": null,
   "metadata": {},
   "outputs": [],
   "source": [
    "# Belongs in Section 9.1.5 DAS Equipment Malfunction\n",
    "\n",
    "# raw_data_sensors_filtered = load_data.apply_filter(pm, perc_diff=.05, skip_strs=['op_state', 'real_pwr-valuesError-mtr-', 'wind'])\n",
    "# dtindex = pd.DatetimeIndex(freq='5Min', start=raw_data_sensors_filtered.index.tolist()[0], end=raw_data_sensors_filtered.index.tolist()[-1])\n",
    "# filtered = raw_data_sensors_filtered.reindex(index=dtindex)\n",
    "# trans2 = load_data.trans_dict(raw_data_sensors_filtered)\n",
    "# pm2 = pecos.monitoring.PerformanceMonitoring()\n",
    "# pm2.add_dataframe(filtered, 'clean')\n",
    "# pm2.add_translation_dictionary(trans2, 'clean')\n",
    "# grid2 = load_data.plot(pm2)\n",
    "# show(grid2)"
   ]
  }
 ],
 "metadata": {
  "language_info": {
   "name": "python",
   "pygments_lexer": "ipython3"
  }
 },
 "nbformat": 4,
 "nbformat_minor": 2
}
