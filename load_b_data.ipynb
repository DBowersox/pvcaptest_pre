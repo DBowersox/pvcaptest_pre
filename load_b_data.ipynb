{
 "cells": [
  {
   "cell_type": "code",
   "execution_count": null,
   "metadata": {},
   "outputs": [],
   "source": [
    "%matplotlib inline\n",
    "%load_ext autoreload\n",
    "%autoreload 2\n",
    "\n",
    "import os\n",
    "import numpy as np\n",
    "import pandas as pd\n",
    "import dateutil\n",
    "import datetime\n",
    "import re\n",
    "import matplotlib.pyplot as plt\n",
    "import math\n",
    "\n",
    "import load_data\n",
    "\n",
    "import pecos\n",
    "\n",
    "from bokeh.io import output_notebook, show\n",
    "from bokeh.plotting import figure\n",
    "from bokeh.palettes import Category10\n",
    "from bokeh.layouts import gridplot\n",
    "from bokeh.models import Legend\n",
    "output_notebook()\n",
    "\n",
    "# pd.set_option('display.height', 1000)\n",
    "pd.set_option('display.max_rows', 500)\n",
    "pd.set_option('display.max_columns', 500)\n",
    "# pd.set_option('display.width', 1000)\n",
    "#test"
   ]
  },
  {
   "cell_type": "code",
   "execution_count": null,
   "metadata": {},
   "outputs": [],
   "source": [
    "raw_data = load_data.load_data(directory='./data_b/')"
   ]
  },
  {
   "cell_type": "code",
   "execution_count": null,
   "metadata": {},
   "outputs": [],
   "source": [
    "raw_data.shape"
   ]
  },
  {
   "cell_type": "code",
   "execution_count": null,
   "metadata": {},
   "outputs": [],
   "source": [
    "trans = load_data.trans_dict(raw_data)"
   ]
  },
  {
   "cell_type": "code",
   "execution_count": null,
   "metadata": {},
   "outputs": [],
   "source": [
    "pm = pecos.monitoring.PerformanceMonitoring()\n",
    "system_name = 'test'\n",
    "pm.add_dataframe(raw_data, system_name)\n",
    "pm.add_translation_dictionary(trans, system_name)"
   ]
  },
  {
   "cell_type": "code",
   "execution_count": null,
   "metadata": {},
   "outputs": [],
   "source": [
    "grid = load_data.plot(pm)\n",
    "show(grid)"
   ]
  },
  {
   "cell_type": "code",
   "execution_count": null,
   "metadata": {},
   "outputs": [],
   "source": [
    "raw_data_sensors_filtered = load_data.apply_filter(pm, perc_diff=.05, skip_strs=['op_state', 'real_pwr-valuesError-inv-', 'wind'])"
   ]
  },
  {
   "cell_type": "code",
   "execution_count": null,
   "metadata": {},
   "outputs": [],
   "source": [
    "raw_data_sensors_filtered.shape"
   ]
  },
  {
   "cell_type": "code",
   "execution_count": null,
   "metadata": {},
   "outputs": [],
   "source": [
    "dtindex = pd.DatetimeIndex(freq='min', start=raw_data_sensors_filtered.index.tolist()[0], end=raw_data_sensors_filtered.index.tolist()[-1])"
   ]
  },
  {
   "cell_type": "code",
   "execution_count": null,
   "metadata": {},
   "outputs": [],
   "source": [
    "filtered = raw_data_sensors_filtered.reindex(index=dtindex)"
   ]
  },
  {
   "cell_type": "code",
   "execution_count": null,
   "metadata": {},
   "outputs": [],
   "source": [
    "trans2 = load_data.trans_dict(raw_data_sensors_filtered)"
   ]
  },
  {
   "cell_type": "code",
   "execution_count": null,
   "metadata": {},
   "outputs": [],
   "source": [
    "pm2 = pecos.monitoring.PerformanceMonitoring()\n",
    "pm2.add_dataframe(filtered, 'clean')\n",
    "pm2.add_translation_dictionary(trans2, 'clean')"
   ]
  },
  {
   "cell_type": "code",
   "execution_count": null,
   "metadata": {},
   "outputs": [],
   "source": [
    "grid2 = load_data.plot(pm2)\n",
    "show(grid2)"
   ]
  },
  {
   "cell_type": "code",
   "execution_count": null,
   "metadata": {},
   "outputs": [],
   "source": [
    "pm.check_timestamp(300)"
   ]
  },
  {
   "cell_type": "code",
   "execution_count": null,
   "metadata": {},
   "outputs": [],
   "source": [
    "# for b\n",
    "# pm.check_missing()\n",
    "# pm.check_range([-5,1500], 'irr-ghi-pyran')\n",
    "# pm.check_range([-5,1500], 'irr-poa-pyran')\n",
    "# pm.check_range([-5,1500], 'irr-poa-ref_cell')\n",
    "# pm.check_range([0,10], 'op_state-inv-')\n",
    "# pm.check_range([-1,1], 'pf-inv')\n",
    "# pm.check_range([-10,40], 'temp-amb-')\n",
    "# pm.check_range([-10,127], 'temp-mod-')\n",
    "# pm.check_range([0,18], 'wind--')\n",
    "\n",
    "# for c\n",
    "pm.check_missing()\n",
    "pm.check_range([-5,1500], 'irr-ghi-')\n",
    "pm.check_range([-5,1500], 'irr-poa-')\n",
    "pm.check_range([-5,1500], 'irr-poa-ref_cell')\n",
    "pm.check_range([-10,40], 'temp-amb-')\n",
    "pm.check_range([0,18], 'wind--')"
   ]
  },
  {
   "cell_type": "code",
   "execution_count": null,
   "metadata": {},
   "outputs": [],
   "source": [
    "check_range_keys = trans_keys.copy()"
   ]
  },
  {
   "cell_type": "code",
   "execution_count": null,
   "metadata": {},
   "outputs": [],
   "source": [
    "check_range_keys"
   ]
  },
  {
   "cell_type": "code",
   "execution_count": null,
   "metadata": {},
   "outputs": [],
   "source": [
    "check_range_keys.remove('real_pwr-valuesError-mtr-') \n",
    "check_range_keys.remove('real_pwr-valuesError-inv-')"
   ]
  },
  {
   "cell_type": "code",
   "execution_count": null,
   "metadata": {},
   "outputs": [],
   "source": [
    "for key in check_range_keys:\n",
    "    pm.check_increment([0.001, None], key)"
   ]
  },
  {
   "cell_type": "code",
   "execution_count": null,
   "metadata": {},
   "outputs": [],
   "source": [
    "mask = pm.get_test_results_mask()\n",
    "QCI = pecos.metrics.qci(mask)"
   ]
  },
  {
   "cell_type": "code",
   "execution_count": null,
   "metadata": {},
   "outputs": [],
   "source": [
    "# Define output file names and directories\n",
    "results_directory = 'Results'\n",
    "if not os.path.exists(results_directory):\n",
    "    os.makedirs(results_directory)\n",
    "graphics_file_rootname = os.path.join(results_directory, 'test_results')\n",
    "custom_graphics_file = os.path.abspath(os.path.join(results_directory, 'custom.png'))\n",
    "metrics_file = os.path.join(results_directory, system_name + '_metrics.csv')\n",
    "test_results_file = os.path.join(results_directory, system_name + '_test_results.csv')\n",
    "report_file =  os.path.join(results_directory, system_name + '.html')\n",
    "\n",
    "# Generate graphics\n",
    "test_results_graphics = pecos.graphics.plot_test_results(graphics_file_rootname, pm)\n",
    "fig = plt.figure(figsize = (7.0,3.5))\n",
    "\n",
    "ax1 = fig.add_subplot(311)\n",
    "pm.df[pm.trans['irr-poa-ref_cell']].plot()\n",
    "\n",
    "plt.savefig(custom_graphics_file, format='png', dpi=500)\n",
    "\n",
    "# Write metrics, test results, and report files\n",
    "pecos.io.write_metrics(metrics_file, QCI)\n",
    "pecos.io.write_test_results(test_results_file, pm.test_results)\n",
    "pecos.io.write_monitoring_report(report_file, pm, test_results_graphics, [custom_graphics_file], QCI)"
   ]
  }
 ],
 "metadata": {
  "language_info": {
   "name": "python",
   "pygments_lexer": "ipython3"
  }
 },
 "nbformat": 4,
 "nbformat_minor": 2
}
