{
 "cells": [
  {
   "cell_type": "code",
   "execution_count": null,
   "metadata": {},
   "outputs": [],
   "source": [
    "%matplotlib inline\n",
    "%load_ext autoreload\n",
    "%autoreload 2\n",
    "\n",
    "import os\n",
    "import numpy as np\n",
    "import pandas as pd\n",
    "import dateutil\n",
    "import datetime\n",
    "import re\n",
    "import matplotlib.pyplot as plt\n",
    "\n",
    "import load_data\n",
    "\n",
    "import pecos\n",
    "\n",
    "# pd.set_option('display.height', 1000)\n",
    "pd.set_option('display.max_rows', 500)\n",
    "pd.set_option('display.max_columns', 500)\n",
    "# pd.set_option('display.width', 1000)\n",
    "#test"
   ]
  },
  {
   "cell_type": "code",
   "execution_count": null,
   "metadata": {},
   "outputs": [],
   "source": [
    "b = 'Capacity test Raw data- 2017-03-25_7 PM.csv'\n",
    "c = 'Data_Extract_20170807-20170807_cap_test_daily_id38778c9c-115.csv'\n",
    "raw_data = load_data.load_das_data('./data/', b)\n",
    "#raw_data.columns.tolist()"
   ]
  },
  {
   "cell_type": "code",
   "execution_count": null,
   "metadata": {},
   "outputs": [],
   "source": [
    "raw_data.shape"
   ]
  },
  {
   "cell_type": "code",
   "execution_count": null,
   "metadata": {},
   "outputs": [],
   "source": [
    "# col_types = raw_data.apply(load_data.series_type, args=(load_data.type_defs,)).tolist()\n",
    "# sub_types = raw_data.apply(load_data.series_type, args=(load_data.sub_type_defs,), bounds_check=False).tolist()\n",
    "# irr_types = raw_data.apply(load_data.series_type, args=(load_data.irr_sensors_defs,), bounds_check=False).tolist()\n",
    "\n",
    "# col_indices = ['-'.join([typ, sub_typ, irr_typ]) for typ, sub_typ, irr_typ in zip(col_types, sub_types, irr_types)]\n",
    "\n",
    "# raw_data_clean_headers = raw_data.copy()\n",
    "# raw_data_clean_headers.columns = col_indices\n",
    "\n",
    "# eq_cnts = load_data.equip_counts(raw_data_clean_headers)"
   ]
  },
  {
   "cell_type": "code",
   "execution_count": null,
   "metadata": {},
   "outputs": [],
   "source": [
    "trans = load_data.trans_dict(raw_data)"
   ]
  },
  {
   "cell_type": "code",
   "execution_count": null,
   "metadata": {},
   "outputs": [],
   "source": [
    "trans_keys = list(trans.keys())\n",
    "trans_keys.sort()\n",
    "trans_keys"
   ]
  },
  {
   "cell_type": "code",
   "execution_count": null,
   "metadata": {},
   "outputs": [],
   "source": [
    "pm = pecos.monitoring.PerformanceMonitoring()\n",
    "system_name = 'test'\n",
    "pm.add_dataframe(raw_data, system_name)\n",
    "pm.add_translation_dictionary(trans, system_name)"
   ]
  },
  {
   "cell_type": "code",
   "execution_count": null,
   "metadata": {},
   "outputs": [],
   "source": [
    "pm.check_timestamp(60)"
   ]
  },
  {
   "cell_type": "code",
   "execution_count": null,
   "metadata": {},
   "outputs": [],
   "source": [
    "pm.check_missing()\n",
    "pm.check_range([-5,1500], 'irr-ghi-pyran')\n",
    "pm.check_range([-5,1500], 'irr-poa-pyran')\n",
    "pm.check_range([-5,1500], 'irr-poa-ref_cell')\n",
    "pm.check_range([0,10], 'op_state-inv-')\n",
    "pm.check_range([-1,1], 'pf-inv')\n",
    "pm.check_range([-10,40], 'temp-amb-')\n",
    "pm.check_range([-10,127], 'temp-mod-')\n",
    "pm.check_range([0,18], 'wind--')"
   ]
  },
  {
   "cell_type": "code",
   "execution_count": null,
   "metadata": {},
   "outputs": [],
   "source": [
    "for key in trans_keys:\n",
    "    pm.check_increment([0.00001, None], key)"
   ]
  },
  {
   "cell_type": "code",
   "execution_count": null,
   "metadata": {},
   "outputs": [],
   "source": [
    "mask = pm.get_test_results_mask()\n",
    "QCI = pecos.metrics.qci(mask)"
   ]
  },
  {
   "cell_type": "code",
   "execution_count": null,
   "metadata": {},
   "outputs": [],
   "source": [
    "# Define output file names and directories\n",
    "results_directory = 'Results'\n",
    "if not os.path.exists(results_directory):\n",
    "    os.makedirs(results_directory)\n",
    "graphics_file_rootname = os.path.join(results_directory, 'test_results')\n",
    "custom_graphics_file = os.path.abspath(os.path.join(results_directory, 'custom.png'))\n",
    "metrics_file = os.path.join(results_directory, system_name + '_metrics.csv')\n",
    "test_results_file = os.path.join(results_directory, system_name + '_test_results.csv')\n",
    "report_file =  os.path.join(results_directory, system_name + '.html')\n",
    "\n",
    "# Generate graphics\n",
    "test_results_graphics = pecos.graphics.plot_test_results(graphics_file_rootname, pm)\n",
    "plt.figure(figsize = (7.0,3.5))\n",
    "ax = plt.gca()\n",
    "raw_data.plot(ax=ax, ylim=[-1.5,1.5])\n",
    "plt.savefig(custom_graphics_file, format='png', dpi=500)\n",
    "\n",
    "# Write metrics, test results, and report files\n",
    "pecos.io.write_metrics(metrics_file, QCI)\n",
    "pecos.io.write_test_results(test_results_file, pm.test_results)\n",
    "pecos.io.write_monitoring_report(report_file, pm, test_results_graphics, [custom_graphics_file], QCI)"
   ]
  },
  {
   "cell_type": "code",
   "execution_count": null,
   "metadata": {},
   "outputs": [],
   "source": [
    "trans['irr-ghi-pyran']"
   ]
  },
  {
   "cell_type": "code",
   "execution_count": null,
   "metadata": {},
   "outputs": [],
   "source": [
    "pm.df[pm.trans['irr-ghi-pyran']].head()"
   ]
  },
  {
   "cell_type": "code",
   "execution_count": null,
   "metadata": {},
   "outputs": [],
   "source": [
    "len(raw_data_clean_headers.columns.tolist())"
   ]
  },
  {
   "cell_type": "code",
   "execution_count": null,
   "metadata": {},
   "outputs": [],
   "source": [
    "len(eq_cnts)"
   ]
  },
  {
   "cell_type": "code",
   "execution_count": null,
   "metadata": {},
   "outputs": [],
   "source": [
    "n_col_names = list(zip(col_indices, eq_cnts))\n",
    "raw_data_clean_headers.columns = pd.MultiIndex.from_tuples(n_col_names, names=['label','equip_cnt'])"
   ]
  },
  {
   "cell_type": "code",
   "execution_count": null,
   "metadata": {},
   "outputs": [],
   "source": [
    "raw_data_clean_headers.head()"
   ]
  },
  {
   "cell_type": "code",
   "execution_count": null,
   "metadata": {},
   "outputs": [],
   "source": [
    "raw_data_clean_headers_f1 = load_data.apply_filter(raw_data_clean_headers, 'label', skip_strs=['inv'])"
   ]
  },
  {
   "cell_type": "code",
   "execution_count": null,
   "metadata": {},
   "outputs": [],
   "source": [
    "raw_data_clean_headers_f1.head()"
   ]
  }
 ],
 "metadata": {
  "language_info": {
   "name": "python",
   "pygments_lexer": "ipython3"
  }
 },
 "nbformat": 4,
 "nbformat_minor": 2
}
