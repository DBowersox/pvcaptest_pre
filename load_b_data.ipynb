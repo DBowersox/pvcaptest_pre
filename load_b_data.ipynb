{
 "cells": [
  {
   "cell_type": "code",
   "execution_count": null,
   "metadata": {},
   "outputs": [],
   "source": [
    "%matplotlib inline\n",
    "%load_ext autoreload\n",
    "%autoreload 2\n",
    "\n",
    "import os\n",
    "import numpy as np\n",
    "import pandas as pd\n",
    "import dateutil\n",
    "import datetime\n",
    "import re\n",
    "import matplotlib.pyplot as plt\n",
    "import math\n",
    "\n",
    "import load_data\n",
    "\n",
    "import pecos\n",
    "\n",
    "from bokeh.io import output_notebook, show\n",
    "from bokeh.plotting import figure\n",
    "from bokeh.palettes import Category10\n",
    "from bokeh.layouts import gridplot\n",
    "output_notebook()\n",
    "\n",
    "# pd.set_option('display.height', 1000)\n",
    "pd.set_option('display.max_rows', 500)\n",
    "pd.set_option('display.max_columns', 500)\n",
    "# pd.set_option('display.width', 1000)\n",
    "#test"
   ]
  },
  {
   "cell_type": "code",
   "execution_count": null,
   "metadata": {},
   "outputs": [],
   "source": [
    "b = 'Capacity test Raw data- 2017-03-25_7 PM.csv'\n",
    "c = 'Data_Extract_20170807-20170807_cap_test_daily_id38778c9c-115.csv'\n",
    "raw_data = load_data.load_das_data('./data/', b)\n",
    "#raw_data.columns.tolist()"
   ]
  },
  {
   "cell_type": "code",
   "execution_count": null,
   "metadata": {},
   "outputs": [],
   "source": [
    "trans = load_data.trans_dict(raw_data)"
   ]
  },
  {
   "cell_type": "code",
   "execution_count": null,
   "metadata": {},
   "outputs": [],
   "source": [
    "trans_keys = list(trans.keys())\n",
    "trans_keys.sort()\n",
    "trans_keys"
   ]
  },
  {
   "cell_type": "code",
   "execution_count": null,
   "metadata": {},
   "outputs": [],
   "source": [
    "met_keys = []\n",
    "for key in trans_keys:\n",
    "    if key.split('-')[0] in ['irr', 'temp', 'wind']:\n",
    "        met_keys.append(key)"
   ]
  },
  {
   "cell_type": "code",
   "execution_count": null,
   "metadata": {},
   "outputs": [],
   "source": [
    "met_keys"
   ]
  },
  {
   "cell_type": "code",
   "execution_count": null,
   "metadata": {},
   "outputs": [],
   "source": [
    "pm = pecos.monitoring.PerformanceMonitoring()\n",
    "system_name = 'test'\n",
    "pm.add_dataframe(raw_data, system_name)\n",
    "pm.add_translation_dictionary(trans, system_name)"
   ]
  },
  {
   "cell_type": "code",
   "execution_count": null,
   "metadata": {},
   "outputs": [],
   "source": [
    "index = pm.df.index.tolist()\n",
    "colors = Category10[10]\n",
    "plots = []\n",
    "for j,key in enumerate(met_keys):\n",
    "    df = pm.df[pm.trans[key]]\n",
    "    cols = df.columns.tolist()\n",
    "\n",
    "    if j == 0:\n",
    "        p = figure(title=key, plot_width=400, plot_height=175, x_axis_type='datetime')\n",
    "        x_axis = p.x_range\n",
    "    if j > 0:\n",
    "        p = figure(title=key, plot_width=400, plot_height=175, x_axis_type='datetime', x_range=x_axis)\n",
    "    \n",
    "    for i,col in enumerate(cols):\n",
    "        p.line(index, df[col], line_color=colors[i])\n",
    "    plots.append(p)\n",
    "\n",
    "grid = gridplot(plots, ncols=2)\n",
    "show(grid)"
   ]
  },
  {
   "cell_type": "code",
   "execution_count": null,
   "metadata": {},
   "outputs": [],
   "source": [
    "pm.check_timestamp(300)"
   ]
  },
  {
   "cell_type": "code",
   "execution_count": null,
   "metadata": {},
   "outputs": [],
   "source": [
    "# for b\n",
    "# pm.check_missing()\n",
    "# pm.check_range([-5,1500], 'irr-ghi-pyran')\n",
    "# pm.check_range([-5,1500], 'irr-poa-pyran')\n",
    "# pm.check_range([-5,1500], 'irr-poa-ref_cell')\n",
    "# pm.check_range([0,10], 'op_state-inv-')\n",
    "# pm.check_range([-1,1], 'pf-inv')\n",
    "# pm.check_range([-10,40], 'temp-amb-')\n",
    "# pm.check_range([-10,127], 'temp-mod-')\n",
    "# pm.check_range([0,18], 'wind--')\n",
    "\n",
    "# for c\n",
    "pm.check_missing()\n",
    "pm.check_range([-5,1500], 'irr-ghi-')\n",
    "pm.check_range([-5,1500], 'irr-poa-')\n",
    "pm.check_range([-5,1500], 'irr-poa-ref_cell')\n",
    "pm.check_range([-10,40], 'temp-amb-')\n",
    "pm.check_range([0,18], 'wind--')"
   ]
  },
  {
   "cell_type": "code",
   "execution_count": null,
   "metadata": {},
   "outputs": [],
   "source": [
    "check_range_keys = trans_keys.copy()"
   ]
  },
  {
   "cell_type": "code",
   "execution_count": null,
   "metadata": {},
   "outputs": [],
   "source": [
    "check_range_keys"
   ]
  },
  {
   "cell_type": "code",
   "execution_count": null,
   "metadata": {},
   "outputs": [],
   "source": [
    "check_range_keys.remove('real_pwr-valuesError-mtr-') \n",
    "check_range_keys.remove('real_pwr-valuesError-inv-')"
   ]
  },
  {
   "cell_type": "code",
   "execution_count": null,
   "metadata": {},
   "outputs": [],
   "source": [
    "for key in check_range_keys:\n",
    "    pm.check_increment([0.001, None], key)"
   ]
  },
  {
   "cell_type": "code",
   "execution_count": null,
   "metadata": {},
   "outputs": [],
   "source": [
    "mask = pm.get_test_results_mask()\n",
    "QCI = pecos.metrics.qci(mask)"
   ]
  },
  {
   "cell_type": "code",
   "execution_count": null,
   "metadata": {},
   "outputs": [],
   "source": [
    "# Define output file names and directories\n",
    "results_directory = 'Results'\n",
    "if not os.path.exists(results_directory):\n",
    "    os.makedirs(results_directory)\n",
    "graphics_file_rootname = os.path.join(results_directory, 'test_results')\n",
    "custom_graphics_file = os.path.abspath(os.path.join(results_directory, 'custom.png'))\n",
    "metrics_file = os.path.join(results_directory, system_name + '_metrics.csv')\n",
    "test_results_file = os.path.join(results_directory, system_name + '_test_results.csv')\n",
    "report_file =  os.path.join(results_directory, system_name + '.html')\n",
    "\n",
    "# Generate graphics\n",
    "test_results_graphics = pecos.graphics.plot_test_results(graphics_file_rootname, pm)\n",
    "fig = plt.figure(figsize = (7.0,3.5))\n",
    "\n",
    "ax1 = fig.add_subplot(311)\n",
    "pm.df[pm.trans['irr-poa-ref_cell']].plot()\n",
    "\n",
    "plt.savefig(custom_graphics_file, format='png', dpi=500)\n",
    "\n",
    "# Write metrics, test results, and report files\n",
    "pecos.io.write_metrics(metrics_file, QCI)\n",
    "pecos.io.write_test_results(test_results_file, pm.test_results)\n",
    "pecos.io.write_monitoring_report(report_file, pm, test_results_graphics, [custom_graphics_file], QCI)"
   ]
  },
  {
   "cell_type": "code",
   "execution_count": null,
   "metadata": {},
   "outputs": [],
   "source": [
    "pm.df[pm.trans['real_pwr-valuesError-mtr-']].head()"
   ]
  },
  {
   "cell_type": "code",
   "execution_count": null,
   "metadata": {},
   "outputs": [],
   "source": [
    "len(raw_data_clean_headers.columns.tolist())"
   ]
  },
  {
   "cell_type": "code",
   "execution_count": null,
   "metadata": {},
   "outputs": [],
   "source": [
    "len(eq_cnts)"
   ]
  },
  {
   "cell_type": "code",
   "execution_count": null,
   "metadata": {},
   "outputs": [],
   "source": [
    "n_col_names = list(zip(col_indices, eq_cnts))\n",
    "raw_data_clean_headers.columns = pd.MultiIndex.from_tuples(n_col_names, names=['label','equip_cnt'])"
   ]
  },
  {
   "cell_type": "code",
   "execution_count": null,
   "metadata": {},
   "outputs": [],
   "source": [
    "raw_data_clean_headers.head()"
   ]
  },
  {
   "cell_type": "code",
   "execution_count": null,
   "metadata": {},
   "outputs": [],
   "source": [
    "raw_data_clean_headers_f1 = load_data.apply_filter(raw_data_clean_headers, 'label', skip_strs=['inv'])"
   ]
  },
  {
   "cell_type": "code",
   "execution_count": null,
   "metadata": {},
   "outputs": [],
   "source": [
    "raw_data_clean_headers_f1.head()"
   ]
  }
 ],
 "metadata": {
  "language_info": {
   "name": "python",
   "pygments_lexer": "ipython3"
  }
 },
 "nbformat": 4,
 "nbformat_minor": 2
}
