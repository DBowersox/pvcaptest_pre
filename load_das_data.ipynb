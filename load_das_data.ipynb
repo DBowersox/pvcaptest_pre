{
 "cells": [
  {
   "cell_type": "code",
   "execution_count": null,
   "metadata": {},
   "outputs": [],
   "source": [
    "%matplotlib inline\n",
    "\n",
    "import os.path\n",
    "import numpy as np\n",
    "import pandas as pd\n",
    "import dateutil\n",
    "import datetime\n",
    "import re\n",
    "import matplotlib.pyplot as plt\n",
    "\n",
    "# pd.set_option('display.height', 1000)\n",
    "pd.set_option('display.max_rows', 500)\n",
    "pd.set_option('display.max_columns', 500)\n",
    "# pd.set_option('display.width', 1000)\n",
    "#test"
   ]
  },
  {
   "cell_type": "code",
   "execution_count": null,
   "metadata": {},
   "outputs": [],
   "source": [
    "def load_das_data(path, filename):\n",
    "    header_end = 1\n",
    "    \n",
    "    dirName = os.path.normpath(path + filename)\n",
    "    all_data = pd.read_csv(dirName, encoding=\"UTF-8\", header=[0,header_end], index_col=0, \n",
    "                              parse_dates=True, skip_blank_lines=True, low_memory=False)\n",
    "    \n",
    "    if not isinstance(all_data.index[0], pd.tslib.Timestamp):\n",
    "        for i,indice in enumerate(all_data.index):\n",
    "            try:\n",
    "                isinstance(dateutil.parser.parse(all_data.index[i]), datetime.date)\n",
    "                header_end = i + 1\n",
    "                break\n",
    "            except ValueError:\n",
    "                continue\n",
    "\n",
    "        all_data = pd.read_csv(dirName, encoding=\"UTF-8\", header=[0,header_end], index_col=0, \n",
    "                                  parse_dates=True, skip_blank_lines=True, low_memory=False)\n",
    "    \n",
    "    all_data = all_data.apply(pd.to_numeric, errors='coerce')\n",
    "    all_data.columns = [' '.join(col).strip() for col in all_data.columns.values]\n",
    "    \n",
    "    \n",
    "    return(all_data)"
   ]
  },
  {
   "cell_type": "code",
   "execution_count": null,
   "metadata": {},
   "outputs": [],
   "source": [
    "blythe_das = load_das_data('./blythe_working/', 'Capacity test Raw data- 2017-03-25_7 PM.csv')"
   ]
  },
  {
   "cell_type": "code",
   "execution_count": null,
   "metadata": {},
   "outputs": [],
   "source": [
    "blythe_das.columns.tolist()"
   ]
  },
  {
   "cell_type": "code",
   "execution_count": null,
   "metadata": {},
   "outputs": [],
   "source": [
    "canal_das = load_das_data('./canal_data/', 'Data_Extract_20170807-20170807_cap_test_daily_id38778c9c-115.csv')"
   ]
  },
  {
   "cell_type": "code",
   "execution_count": null,
   "metadata": {},
   "outputs": [],
   "source": [
    "canal_das.columns.tolist()"
   ]
  },
  {
   "cell_type": "code",
   "execution_count": null,
   "metadata": {},
   "outputs": [],
   "source": [
    "aux_load = 100\n",
    "ac_nameplate = 21040\n",
    "\n",
    "# The search strings for types cannot be duplicated across types.\n",
    "type_defs = {'irr':[['irradiance', 'irr', 'plane of array', 'poa', 'ghi', 'global',\n",
    "                     'glob', 'w/m^2', 'w/m2', 'w/m', 'w/'],\n",
    "                    (-10,1500)], \n",
    "            'temp':[['temperature', 'temp', 'degrees', 'deg', 'ambient', 'amb', \n",
    "                        'cell temperature'],\n",
    "                    (-49,127)],       \n",
    "            'wind':[['wind', 'speed'],\n",
    "                    (0,18)],\n",
    "            'pf':[['power factor', 'factor', 'pf'],\n",
    "                  (-1,1)],\n",
    "            'op_state':[['operating state', 'state', 'op', 'status'],\n",
    "                        (0,10)],\n",
    "            'real_pwr':[['real power', 'ac power', 'power'],\n",
    "                        (aux_load,ac_nameplate*1.05)]}\n",
    "\n",
    "sub_type_defs = {'poa':[['plane of array', 'poa']],\n",
    "                 'ghi':[['global horizontal', 'ghi', 'global', 'glob']],\n",
    "                 'amb':[['ambient', 'amb']],\n",
    "                 'mod':[['module', 'mod']],\n",
    "                 'mtr':[['revenue meter', 'rev meter', 'billing meter', ' meter']],\n",
    "                 'inv':[['inverter', 'inv']]}\n",
    "\n",
    "irr_sensors_defs = {'ref_cell':[['reference cell', 'reference', 'ref', 'referance', 'pvel']],\n",
    "                    'pyran':[['pyranometer', 'pyran']]\n",
    "                   }"
   ]
  },
  {
   "cell_type": "code",
   "execution_count": null,
   "metadata": {},
   "outputs": [],
   "source": [
    "def series_type(series, type_defs=type_defs, bounds_check=True, warnings=False):  \n",
    "    for key in type_defs.keys():\n",
    "#         print('################')\n",
    "#         print(key)\n",
    "        for search_str in type_defs[key][0]:\n",
    "#             print(search_str)\n",
    "            if series.name.lower().find(search_str) == -1:\n",
    "                continue\n",
    "            else:\n",
    "                if bounds_check:\n",
    "                    min_bool = series.min() >= type_defs[key][1][0]\n",
    "                    max_bool = series.max() <= type_defs[key][1][1]\n",
    "                    if min_bool and max_bool:\n",
    "                        return key\n",
    "                    else:\n",
    "                        if warnings:\n",
    "                            if not min_bool:\n",
    "                                print('Values in {} exceed min values for {}'.format(series.name, key))\n",
    "                            elif not max_bool:\n",
    "                                print('Values in {} exceed max values for {}'.format(series.name, key))\n",
    "                        return key + '-valuesError'\n",
    "                else:\n",
    "                    return key\n",
    "    return ''"
   ]
  },
  {
   "cell_type": "code",
   "execution_count": null,
   "metadata": {},
   "outputs": [],
   "source": [
    "col_types = blythe_das.apply(series_type, type_defs=type_defs).tolist()"
   ]
  },
  {
   "cell_type": "code",
   "execution_count": null,
   "metadata": {},
   "outputs": [],
   "source": [
    "sub_types = blythe_das.apply(series_type, type_defs=sub_type_defs, bounds_check=False).tolist()"
   ]
  },
  {
   "cell_type": "code",
   "execution_count": null,
   "metadata": {},
   "outputs": [],
   "source": [
    "irr_types = blythe_das.apply(series_type, type_defs=irr_sensors_defs, bounds_check=False).tolist()"
   ]
  },
  {
   "cell_type": "code",
   "execution_count": null,
   "metadata": {},
   "outputs": [],
   "source": [
    "# names = list(zip(col_types, sub_types, irr_types, canal_das.columns.tolist()))"
   ]
  },
  {
   "cell_type": "code",
   "execution_count": null,
   "metadata": {},
   "outputs": [],
   "source": [
    "# column_indices = list(zip(col_types, sub_types, irr_types))"
   ]
  },
  {
   "cell_type": "code",
   "execution_count": null,
   "metadata": {},
   "outputs": [],
   "source": [
    "col_indices = ['-'.join([typ, sub_typ, irr_typ]) for typ, sub_typ, irr_typ in zip(col_types, sub_types, irr_types)]"
   ]
  },
  {
   "cell_type": "code",
   "execution_count": null,
   "metadata": {},
   "outputs": [],
   "source": [
    "col_indices[:5]"
   ]
  },
  {
   "cell_type": "code",
   "execution_count": null,
   "metadata": {},
   "outputs": [],
   "source": [
    "blythe_das_clean = blythe_das.copy()\n",
    "blythe_das_clean.columns = col_indices"
   ]
  },
  {
   "cell_type": "code",
   "execution_count": null,
   "metadata": {},
   "outputs": [],
   "source": [
    "def equip_counts(df):\n",
    "    equip_counts = {}\n",
    "    eq_cnt_lst = []\n",
    "    col_names = df.columns.tolist()\n",
    "    for i, col_name in enumerate(col_names):\n",
    "#         print('################')\n",
    "#         print('loop: {}'.format(i))\n",
    "#         print(col_name)\n",
    "        if i == 0:\n",
    "            equip_counts[col_name] = 1\n",
    "            eq_cnt_lst.append(equip_counts[col_name])\n",
    "            continue\n",
    "        if col_name not in equip_counts.keys():\n",
    "            equip_counts[col_name] = 1\n",
    "            eq_cnt_lst.append(equip_counts[col_name])\n",
    "        else:\n",
    "            equip_counts[col_name] += 1\n",
    "            eq_cnt_lst.append(equip_counts[col_name])\n",
    "#         print(eq_cnt_lst[i])\n",
    "    return eq_cnt_lst"
   ]
  },
  {
   "cell_type": "code",
   "execution_count": null,
   "metadata": {},
   "outputs": [],
   "source": [
    "eq_cnts = equip_counts(blythe_das_clean)"
   ]
  },
  {
   "cell_type": "code",
   "execution_count": null,
   "metadata": {},
   "outputs": [],
   "source": [
    "len(blythe_das_clean.columns.tolist())"
   ]
  },
  {
   "cell_type": "code",
   "execution_count": null,
   "metadata": {},
   "outputs": [],
   "source": [
    "len(eq_cnts)"
   ]
  },
  {
   "cell_type": "code",
   "execution_count": null,
   "metadata": {},
   "outputs": [],
   "source": [
    "n_col_names = list(zip(col_indices, eq_cnts))\n",
    "blythe_das_clean.columns = pd.MultiIndex.from_tuples(n_col_names, names=['label','eq_cnt'])"
   ]
  },
  {
   "cell_type": "code",
   "execution_count": null,
   "metadata": {},
   "outputs": [],
   "source": [
    "blythe_das_clean.head()"
   ]
  },
  {
   "cell_type": "code",
   "execution_count": null,
   "metadata": {},
   "outputs": [],
   "source": [
    "blythe_das_clean.groupby(level='label', axis=1).mean()"
   ]
  },
  {
   "cell_type": "code",
   "execution_count": null,
   "metadata": {},
   "outputs": [],
   "source": [
    "# blythe_das.iloc[:,3].plot().legend(loc='center left', bbox_to_anchor=(1,0.5))"
   ]
  }
 ],
 "metadata": {
  "language_info": {
   "name": "python",
   "pygments_lexer": "ipython3"
  }
 },
 "nbformat": 4,
 "nbformat_minor": 2
}
